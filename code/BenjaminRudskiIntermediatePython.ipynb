{
 "cells": [
  {
   "cell_type": "markdown",
   "id": "e49c93e4-f02a-4c79-a5c1-2960e451c28a",
   "metadata": {},
   "source": [
    "# Intermediate Python\n",
    "\n",
    "MiCM Workshop - July 18, 2024\n",
    "\n",
    "Benjamin Z. Rudski, PhD Candidate, Quantitative Life Sciences, McGill University\n",
    "\n",
    "Dear `Reader | Workshop Attendee`,\n",
    "\n",
    "Welcome! In this interactive Jupyter notebook, we will explore intermediate-level skills in the Python programming language. We'll cover material from functions and data classes to processing and visualising data using popular libraries. This workshop assumes that you have a basic knowledge of Python. If you don't feel free to check out some beginner resources. In a shameless self-promotion plug, you may find my [Intro to Python workshop]() helpful.\n",
    "\n",
    "The end-of-module exercises in this workshop will involve slowly building up a project. The final filled-in notebook, can be found in the [solutions folder](../solutions/BenjaminRudskiIntermediatePython.ipynb). I recommend trying the exercises yourself before looking at the solutions. There's often more than one way to accomplish a task, so it's better that you figure out the intuition for yourself. Who knows... your answer may actually be better than the one I've provided!"
   ]
  },
  {
   "cell_type": "markdown",
   "id": "408fe8a2-56d5-4583-981f-98ef8e1e31b3",
   "metadata": {},
   "source": [
    "# Table of Contents\n",
    "\n",
    "1.\tModule 0 – Welcome\n",
    "    1.\tIntroduction & overview\n",
    "    2.\tMotivational problem context: Managing experimental samples.\n",
    "2.\tModule 1 – Introduction to Functions\n",
    "    1.\tFunction Overview\n",
    "    2.\tWriting Custom Functions\n",
    "    3.\tDocumenting Functions\n",
    "    4.\tExercise\n",
    "3.\tModule 2 – Advanced Python Features\n",
    "    1.\tOne-liners: Some Python Syntactic Sugar\n",
    "    2.\tA Brief Overview of Classes\n",
    "    3.\tEnumerations\n",
    "    4.\tIntroduction to Data Classes\n",
    "    5.\tExercise: Managing samples with different properties.\n",
    "4.\tModule 3 – Introduction to NumPy Arrays\n",
    "    1.\tIntroduction to Arrays\n",
    "    2.\tBasic Array Operations\n",
    "    3.\tAdvanced Array Operations\n",
    "    4.\tExercise: Computing statistics on our samples.\n",
    "5.\tModule 4 – Visualising Data with Matplotlib\n",
    "    1.\tCreating Plots with Matplotlib\n",
    "    2.\tAdvanced Plotting Techniques\n",
    "    3.\tExploring the Matplotlib Documentation\n",
    "    4.\tExercise: Generating plots based on our sample data.\n",
    "6.\tModule 5 – Wrap-up (10 minutes)\n",
    "    1.\tWhat to learn next? How?\n",
    "    2.\tHow to get help and how not to get help\n",
    "    3.\tOther cool programming topics"
   ]
  },
  {
   "cell_type": "markdown",
   "id": "bf430b75-21ee-474b-bfe2-41ead87088bc",
   "metadata": {},
   "source": [
    "# Learning Objectives\n",
    "\n",
    "By the end of this workshop, you'll have the skills necessary to:\n",
    "\n",
    "1.\tWrite and document custom functions to perform complex operations.\n",
    "2.\tUse advanced Python features, such as list comprehensions, to simplify code.\n",
    "3.\tUse NumPy to easily process multidimensional data.\n",
    "4.\tUse Matplotlib to generate different types of plots to visualise data.\n",
    "5.\tApproach a new package and explore its documentation and examples.\n",
    "\n",
    "Ready? Let's dive into the material!"
   ]
  },
  {
   "cell_type": "markdown",
   "id": "75ebd402-3f15-4781-8781-a5f55550bc3d",
   "metadata": {},
   "source": [
    "# Module 0 - Welcome\n",
    "\n",
    "This module doesn't have much code, but it's important to set up where we're going. By now, you have basic programming skills. You can store data in a variable, do simple calculations, write loops, do fun stuff with lists and import functions from existing modules.\n",
    "\n",
    "You may be wondering what else is left. Haven't we seen everything? Well, these topics only begin to scratch the surface of what you can do with code. In this workshop, we'll see how to bring code together to create reproducible units of behaviour (functions) and easy ways of packaging data together (data classes). We'll also see how to use some popular packages to perform more advanced data processing."
   ]
  },
  {
   "cell_type": "markdown",
   "id": "ef1450d9-8fe0-4e46-bb20-5f2c411278b6",
   "metadata": {},
   "source": [
    "## Mini-Project\n",
    "\n",
    "To illustrate the concepts that we're going to see, we're going to work on a mini-project. Ultimately, we'll build simple software for analysing a gene in cells with different genotypes. By the end of this workshop, we will have code that can compute amino acid properties, perform basic statistics on these properties for different groups of cells, and then plot the results."
   ]
  },
  {
   "cell_type": "markdown",
   "id": "ec600874-5993-40a8-9983-91bed0884f3d",
   "metadata": {},
   "source": [
    "And now, here we go!"
   ]
  },
  {
   "cell_type": "markdown",
   "id": "5debe58f-e3bd-498a-a6e8-22bd6e6c121d",
   "metadata": {},
   "source": [
    "# Module 1 - Introduction to Functions\n",
    "\n",
    "In this module, we'll explore functions. By now, you've almost certainly used existing functions, like `abs` or `round` or, of course, `print`. Here, we'll see not only how to *use* functions, but also how to *define* them.\n",
    "\n",
    "Here's the outline for this module:\n",
    "\n",
    "1. Function Overview\n",
    "    1. What is a function?\n",
    "2. Writing Custom Functions\n",
    "    1. Basic function definitions\n",
    "    2. Passing inputs: Defining parameters\n",
    "    3. Producing outputs: Return values\n",
    "3. Documenting Functions\n",
    "    1. Defining function docstrings\n",
    "    2. How to get help from your IDE: Type annotations\n",
    "4. Exercise\n"
   ]
  },
  {
   "attachments": {},
   "cell_type": "markdown",
   "id": "a9c4f562-ef28-48ca-bfd9-0e86578d5afd",
   "metadata": {},
   "source": [
    "## Function Overview\n",
    "\n",
    "We can think of functions as **machines** that take in **inputs**, run code (do calculations, magic or a bit of both), and then produce an **output** that can be used.\n",
    "\n",
    "The inputs are known as *parameters* or *arguments* and the outputs are known as *return values*.\n",
    "\n",
    "Here's a diagram to illustrate this.\n",
    "\n",
    "![Function as a machine](../assets/function/Function.png)\n",
    "\n",
    "Like anything in Python, a function has a **name**. To run the function, we must **call it** by writing its name, and then including the arguments in brackets.\n",
    "\n",
    "**Remember! Even if the function has no arguments, you must put the brackets!**\n",
    "\n",
    "If the function **returns** a value, we can store it in a variable using the typical `=` assignment.\n",
    "\n",
    "For example, let's call the `round` function:"
   ]
  },
  {
   "cell_type": "code",
   "execution_count": null,
   "id": "ecb622ad-ef77-4e5a-bc4e-26d885b64afd",
   "metadata": {},
   "outputs": [],
   "source": [
    "# Your code here\n"
   ]
  },
  {
   "cell_type": "markdown",
   "id": "121f28ea-96c6-4839-93f6-bb7cde50144c",
   "metadata": {},
   "source": [
    "We can learn more about any function using the built-in `help` function:"
   ]
  },
  {
   "cell_type": "code",
   "execution_count": null,
   "id": "02f5a4d0-8762-453f-98df-b030bce5ab42",
   "metadata": {},
   "outputs": [],
   "source": [
    "# Your code here\n"
   ]
  },
  {
   "cell_type": "markdown",
   "id": "c25160cd-59a1-43b4-aae3-a86644bb08de",
   "metadata": {},
   "source": [
    "This help documentation, known as a **docstring** tells us important information about the function. It describes the parameters and return values, as well as any quirks that the function may have."
   ]
  },
  {
   "cell_type": "markdown",
   "id": "50233d74-d2c0-4f55-abda-b5094875457b",
   "metadata": {},
   "source": [
    "## Writing Custom Functions\n",
    "\n",
    "Now that we've gotten a refresher on how to *use* functions, let's dive into writing our own.\n",
    "\n",
    "### Why write our own functions?\n",
    "\n",
    "It's all good and fun to write all the steps you want to do line-by-line. But, let's say you want to run the same set of steps multiple times, potentially on different inputs. Instead of copying the code, we can write new **functions**."
   ]
  },
  {
   "cell_type": "markdown",
   "id": "21c7767a-aeb2-4482-8b41-c8c955876ddc",
   "metadata": {},
   "source": [
    "### A Bit of Syntax\n",
    "\n",
    "In Python, functions are defined using the `def` keyword. The syntax is:\n",
    "\n",
    "```python\n",
    "\n",
    "def function_name(argument1, argument2, argument3, ..., argumentN):\n",
    "    \"\"\"\n",
    "    documentation here\n",
    "    \"\"\"\n",
    "\n",
    "    your_code_here...\n",
    "\n",
    "    return some_value\n",
    "\n",
    "```\n",
    "Here are the important elements to notice when **defining** a function:\n",
    "\n",
    "* The function definition begins with the `def` keyword. This is similar to the `function` keyword in Javascript, or the `func` keyword in Swift.\n",
    "* The **function name** follows the same rules as variable names. There are different naming conventions for names that consist of multiple words (`snake_case` vs `camelCase`).\n",
    "* After the function name, you can include a list of parameters in parentheses. **If your function takes no arguments, you must still put the brackets.** Each argument in the list must have a valid variable name. We'll discuss these in more detail later.\n",
    "* After closing the argument list bracket, we put a **colon** (`:`).\n",
    "* After the first line, we must **indent**. This tells Python where the function body begins and ends.\n",
    "* We can start the body with a **docstring**, which describes the function. We'll discuss these more later.\n",
    "* Then, you write your code as normal. In this function body, treat the arguments **like normal variables**.\n",
    "* To **output** a result that can be used later, use the keyword `return`, followed by the result. We'll discuss this more later.\n",
    "* After finishing to define the function, simply stop indenting. There's no need to close any brackets or type `end`."
   ]
  },
  {
   "cell_type": "markdown",
   "id": "95f44888-8266-4096-9f0d-df6a8c3a09eb",
   "metadata": {},
   "source": [
    "To demonstrate, let's write a function with no arguments that simply prints a string onto the screen:"
   ]
  },
  {
   "cell_type": "code",
   "execution_count": null,
   "id": "769b2208-4ee9-4b58-b5b9-4f2727a0da0d",
   "metadata": {},
   "outputs": [],
   "source": [
    "# Your code here\n"
   ]
  },
  {
   "cell_type": "markdown",
   "id": "f02e9fda-fb5c-4b24-be2f-e5c41531652c",
   "metadata": {},
   "source": [
    "Wait! What happened? Or well, what didn't happen? We didn't see any string... What's going on?\n",
    "\n",
    "Well, we only **defined** the function. To actually run the function we must *call* it. To call a function, simply write the name of the function, followed by the desired arguments in brackets. **If the function takes no arguments, you must still type the empty brackets.**"
   ]
  },
  {
   "cell_type": "markdown",
   "id": "4ba5e93d-ad97-409a-a8da-6417b2267ae4",
   "metadata": {},
   "source": [
    "Let's call our function we just defined:"
   ]
  },
  {
   "cell_type": "code",
   "execution_count": null,
   "id": "29928773-62b7-4462-b713-6a6843df2354",
   "metadata": {},
   "outputs": [],
   "source": [
    "# Your code here\n"
   ]
  },
  {
   "cell_type": "markdown",
   "id": "92a3ee1e-0c50-4804-a0bb-b03ec2ee1627",
   "metadata": {},
   "source": [
    "### Function Parameters\n",
    "\n",
    "This function worked, but we didn't really put the *fun* in *function*.\n",
    "\n",
    "We said that a function takes input and produces output... This does neither!!! So, let's create a function with some parameters! Let's look at the specific syntax:\n",
    "\n",
    "```python\n",
    "\n",
    "def my_function(arg1, arg2, arg3, ..., argN):\n",
    "    my_code...\n",
    "\n",
    "```\n",
    "\n",
    "We separate each parameter using **commas (,)**. We can then refer to these as variables in the function body. In this case, in the function body's code, you can refer to `arg1` just as you would any other variable.\n",
    "\n",
    "As an example, let's write a function that takes a DNA sequence as input and prints the transcribed RNA. To make it more interesting, let's add an extra parameter that indicates whether we are considering the sequence to be on the template strand or not. For simplicity, let's ignore the directionality of DNA.\n",
    "\n",
    "Remember, if the DNA is on the template strand, we must perform base-pairing!"
   ]
  },
  {
   "cell_type": "code",
   "execution_count": null,
   "id": "9477265e-aa6b-4c4f-b4b0-5dd755c6e991",
   "metadata": {},
   "outputs": [],
   "source": [
    "# Your code here\n"
   ]
  },
  {
   "cell_type": "markdown",
   "id": "25fc9b22-b6cd-4bf9-9c81-5f92a5d4908a",
   "metadata": {},
   "source": [
    "And now, let's call this function using a specific sequence."
   ]
  },
  {
   "cell_type": "code",
   "execution_count": null,
   "id": "be33b9a2-f628-4cde-b1ae-973639b916ae",
   "metadata": {},
   "outputs": [],
   "source": [
    "my_sequence = \"AATTAGCGAGCCGAATATATAGCCGCGATTCAGACAGTTCCAGCGCA\"\n",
    "\n",
    "# Your code here\n"
   ]
  },
  {
   "cell_type": "markdown",
   "id": "b2489224-126c-4ae5-b60c-cb1765ef3c78",
   "metadata": {},
   "source": [
    "This works well! Except, what if most of the time, we're going to call the function on the template strand? It would be nice if we didn't have to specify this argument every time we call the function.\n",
    "\n",
    "Good news! We can set default values for function arguments. These are known as *keyword* arguments. Values without a default value are known as *positional* arguments. To specify the default value, simply assign the value with `=`:\n",
    "\n",
    "```python\n",
    "\n",
    "def my_function(my_positional_arg, my_kw_arg=default_value):\n",
    "    ...\n",
    "\n",
    "```\n",
    "\n",
    "Let's extend our transcription example to set a default value for the `is_template_strand` parameter:"
   ]
  },
  {
   "cell_type": "code",
   "execution_count": null,
   "id": "9829780f-e79e-472e-8e00-197a405cc2e1",
   "metadata": {},
   "outputs": [],
   "source": [
    "# Your code here to modify the function\n",
    "\n",
    "def transcribe(dna, is_template_strand):\n",
    "    if not is_template_strand:\n",
    "        rna_sequence = dna.replace(\"T\", \"U\")\n",
    "    else:\n",
    "        base_pairs = {\"A\": \"U\", \"C\": \"G\", \"T\": \"A\", \"G\": \"C\"}\n",
    "        rna_sequence = \"\"\n",
    "        for nt in dna:\n",
    "            rna_sequence += base_pairs[nt]\n",
    "    print(rna_sequence)"
   ]
  },
  {
   "cell_type": "markdown",
   "id": "9258fe2e-5614-418e-9baa-c1b6ecec224c",
   "metadata": {},
   "source": [
    "So, now we can call the function without having to specify a value for the second parameter:"
   ]
  },
  {
   "cell_type": "code",
   "execution_count": null,
   "id": "51f0c8ac-22b7-4269-9eab-bc41e6668c5d",
   "metadata": {},
   "outputs": [],
   "source": [
    "# Your code here to call the function with only one parameter\n"
   ]
  },
  {
   "cell_type": "markdown",
   "id": "8e041100-8313-4dd2-bf5a-f54d924b0097",
   "metadata": {},
   "source": [
    "There are a few **important rules** to remember about positional and keyword arguments:\n",
    "\n",
    "1. Positional arguments **always** come first, both when defining and when calling functions.\n",
    "2. When calling a function, you **must** include **all** positional arguments, but you can omit keyword arguments (since they have default values).\n",
    "3. Keyword arguments can be passed in **any order**, but positional arguments must be kept in the same order.\n",
    "\n",
    "Here are some more technical notes:\n",
    "1. **Any** argument can be written in keyword argument form when calling a function, but if you write a positional argument in keyword form, **all** subsequent arguments must be written in keyword form.\n",
    "2. **Any** argument can be written in positional form when calling a function, but **all** preceding arguments must be written in this positional form as well."
   ]
  },
  {
   "cell_type": "markdown",
   "id": "eff28ab9-8915-4386-af7c-59e1bd18c627",
   "metadata": {},
   "source": [
    "## Function Return Values\n",
    "\n",
    "So, we've seen how to pass information into functions, but now, how do we get information out? The answer is **return values**. These return values let us capture the result of a function, which we can then use like a normal variable in code. To return a value, we simply type `return` followed by the value we want to return.\n",
    "\n",
    "Here's the syntax:\n",
    "```python\n",
    "\n",
    "def my_function(...):\n",
    "    ...\n",
    "\n",
    "    my_result = ...\n",
    "\n",
    "    ...\n",
    "\n",
    "    return my_result\n",
    "\n",
    "```\n",
    "\n",
    "Let's now switch our previous transcription function to *return* the mRNA instead of simply printing it:"
   ]
  },
  {
   "cell_type": "code",
   "execution_count": null,
   "id": "4ce9e2ee-d5f0-40c7-8b7b-3c03ff117134",
   "metadata": {},
   "outputs": [],
   "source": [
    "# Your code here to modify the function to return a result\n",
    "\n",
    "def transcribe(dna, is_template_strand=True):\n",
    "    if not is_template_strand:\n",
    "        rna_sequence = dna.replace(\"T\", \"U\")\n",
    "    else:\n",
    "        base_pairs = {\"A\": \"U\", \"C\": \"G\", \"T\": \"A\", \"G\": \"C\"}\n",
    "        rna_sequence = \"\"\n",
    "        for nt in dna:\n",
    "            rna_sequence += base_pairs[nt]\n",
    "    print(rna_sequence)"
   ]
  },
  {
   "cell_type": "markdown",
   "id": "5e84ab2a-db45-4328-8720-423277a5615e",
   "metadata": {},
   "source": [
    "So, this is how to return the value. Now, let's see how to capture and use it. To capture the value, we simply assign it to a variable, like normal."
   ]
  },
  {
   "cell_type": "code",
   "execution_count": null,
   "id": "3d42cb6d-bf60-473b-bf0a-f985febb9569",
   "metadata": {},
   "outputs": [],
   "source": [
    "# Your code here to get the new RNA sequence\n",
    "\n"
   ]
  },
  {
   "cell_type": "markdown",
   "id": "affc0516-9d54-44df-9d37-ac0987e7df6e",
   "metadata": {},
   "source": [
    "**Note:** If your code has multiple branches, you can put multiple return statements in your code. **But**, once your code reaches the `return` line, the function **stops** and returns to the code that called it. Any code that you've written after the `return` statement **will not run**."
   ]
  },
  {
   "cell_type": "markdown",
   "id": "25067908-4716-4da5-83fa-fd18efe78fb7",
   "metadata": {},
   "source": [
    "We can also return *multiple* values using tuples, lists or dictionaries. For example, let's say we want to count the number of each type of nucleotide in a sequence of DNA:"
   ]
  },
  {
   "cell_type": "code",
   "execution_count": null,
   "id": "f23357d0-c994-4c36-b635-2e89ecb4d13b",
   "metadata": {},
   "outputs": [],
   "source": [
    "# Your code here to return the number of A, T, G, C nucleotides\n"
   ]
  },
  {
   "cell_type": "markdown",
   "id": "6f73cf97-6b64-4640-8d73-3a0af49c2e65",
   "metadata": {},
   "source": [
    "Now, let's run this code on our example sequence:"
   ]
  },
  {
   "cell_type": "code",
   "execution_count": null,
   "id": "80210d33-f9cd-4b17-8981-bca1e8d41e0b",
   "metadata": {},
   "outputs": [],
   "source": [
    "# Your code here to call this function on an example\n"
   ]
  },
  {
   "cell_type": "markdown",
   "id": "09c81015-afcd-45e3-9e22-0cc07363ba34",
   "metadata": {},
   "source": [
    "This is great! But let's say you get this function from someone else to import and use in your own code. You don't want to have to find this function and read all the code just to use it... But, how do we know what parameters this function takes and what values it returns..."
   ]
  },
  {
   "cell_type": "markdown",
   "id": "69d16037-909a-4215-b969-2fb51bb3bdf6",
   "metadata": {},
   "source": [
    "## Function Documentation and Type Hints\n",
    "\n",
    "The answer to this question is **documentation**. When defining a function, we can provide a *docstring*, which describes the important information about a function in a **human-readable** form. The docstring is just a string that a person can read to learn more about a function. If you're using a code editor or IDE, like VS code or PyCharm, this string appears when you hover your mouse over a function. The information contained in this docstring can include:\n",
    "\n",
    "* A brief description of the function.\n",
    "* A longer description of the function. If you're implementing an existing approach, it could be good to include a citation here. You can also include equations here.\n",
    "* A description of the function parameters, including their types.\n",
    "* A description of the function return values, as well as their types. This is especially useful if you are returning multiple values and need to include their order.\n",
    "\n",
    "Let's clarify our previous example by adding a docstring:\n"
   ]
  },
  {
   "cell_type": "code",
   "execution_count": null,
   "id": "010e4ece-8a84-422a-bbe5-96134736a80d",
   "metadata": {},
   "outputs": [],
   "source": [
    "# Your code here to add a docstring to our function\n",
    "\n",
    "def count_nucleotides(dna_sequence):\n",
    "    number_of_a = 0\n",
    "    number_of_t = 0\n",
    "    number_of_c = 0\n",
    "    number_of_g = 0\n",
    "\n",
    "    dna_sequence = dna_sequence.upper()\n",
    "\n",
    "    for nt in dna_sequence:\n",
    "        if nt == \"A\":\n",
    "            number_of_a += 1\n",
    "        elif nt == \"T\":\n",
    "            number_of_t += 1\n",
    "        elif nt == \"C\":\n",
    "            number_of_c += 1\n",
    "        else:\n",
    "            number_of_g += 1\n",
    "    \n",
    "    return number_of_a, number_of_t, number_of_c, number_of_g"
   ]
  },
  {
   "cell_type": "markdown",
   "id": "90e379b0-c37f-410d-a535-51ea3b084b14",
   "metadata": {},
   "source": [
    "Now that we have a docstring, we can actually read it using the `help` function!"
   ]
  },
  {
   "cell_type": "code",
   "execution_count": null,
   "id": "c09b2234-c1c0-4608-9f4a-57fa11eb9898",
   "metadata": {},
   "outputs": [],
   "source": [
    "# Your code here to look at the help for count_nucleotides.\n",
    "\n"
   ]
  },
  {
   "cell_type": "markdown",
   "id": "3cfcdc37-e41e-4e3a-ac99-657326a9d659",
   "metadata": {},
   "source": [
    "While there are not many rules for how to write docstrings, there are some guidelines laid out in the Python documentation in [PEP 257](https://peps.python.org/pep-0257/). There are also a number of common conventions used. One is the **numpydoc** style, which is used by the developers of the NumPy project. This style is described online [here](https://numpydoc.readthedocs.io/) and is integrated into some code editors."
   ]
  },
  {
   "cell_type": "markdown",
   "id": "c70fa89a-8eda-4d90-ae66-323ae2d8f816",
   "metadata": {},
   "source": [
    "So, this is great for making it easy for other people to read... But, the docstring is just a string. The code editor doesn't understand it and can't give us suggestions based on it. But, we can do get this extra help using **type hints**.\n",
    "\n",
    "**Type hints** are a relatively recent addition to Python. They allow us to *explicitly* indicate the types of function parameters, return values and any other variable. That way, the code editor can tell us if we've passed the wrong type of value somewhere, or even give us suggestions as we type."
   ]
  },
  {
   "cell_type": "markdown",
   "id": "ca8118db-344f-4c8b-867d-f96460f77e2c",
   "metadata": {},
   "source": [
    "### A quick refresh on types\n",
    "\n",
    "Everything in Python has a type. When you have a string of text, such as `\"Hello, world!\"`, it is a Python *object* of type `str` (string). If you have an integer number, like `4`, it is an object of type `int`. If you have a list, it is an object of type `list`. Hopefully, you get the idea by now.\n",
    "\n",
    "In many cases the type can be inferred. For example, if you write\n",
    "```python\n",
    "\n",
    "x = 5\n",
    "\n",
    "```\n",
    "\n",
    "Then you know that `x` has type `int`. You can check the type of a variable `x` by running:\n",
    "```python\n",
    "type(x)\n",
    "```\n",
    "\n",
    "We'll see later how to create new types.\n",
    "\n",
    "Let's see a few more examples of types:"
   ]
  },
  {
   "cell_type": "code",
   "execution_count": null,
   "id": "7f319b89-fcca-4946-9f30-1e1eaf39422b",
   "metadata": {},
   "outputs": [],
   "source": [
    "# Your code here to play with variable types\n"
   ]
  },
  {
   "cell_type": "markdown",
   "id": "e5589048-860b-4ac7-a786-a3396bae9a0d",
   "metadata": {},
   "source": [
    "### Type Hints\n",
    "\n",
    "Although in the earlier cases we saw the type is implied, we can also explicitly set the type of different variables. We do this by adding a colon and the name of the type after the variable name. For example:\n",
    "```python\n",
    "\n",
    "x: int = 6\n",
    "y: str = \"world\"\n",
    "\n",
    "```\n",
    "\n",
    "This extra bit that we add is known as a *type hint*. It gives a hint to the reader and the code editor about the specific type of the variable.\n",
    "\n",
    "**Note:** Type variables are simply an annotation. They *don't* actually change the type of the object. If you want to convert from one type to another, you need a different function.\n",
    "\n",
    "### Type Hints and Functions\n",
    "\n",
    "There are certain operations that we can only perform on certain types. For example, you can subtract two `int`s or two `float`s, but you can't subtract two `str`s. In your function, you perform operations on the arguments that are passed in. These operations often make assumptions about the **type** of the arguments. With type hints, you express clearly for the computer, as well as your code editor, what exactly those assumptions are.\n",
    "\n",
    "To add type hints to the **parameters**, we just repeat the above syntax with the colon and the type name after the parameter names.\n",
    "\n",
    "We can also use type hits to indicate the **return type**. After defining the parameters, but **before the colon**, we can put an arrow `->` followed by the return type.\n",
    "\n",
    "\n",
    "Let's add type hints to our earlier transcription code:"
   ]
  },
  {
   "cell_type": "code",
   "execution_count": null,
   "id": "4b651f77-b991-4714-a999-bed5c627211d",
   "metadata": {},
   "outputs": [],
   "source": [
    "# Your code here to add type hints\n",
    "\n",
    "def transcribe(dna, is_template_strand=True):\n",
    "    if not is_template_strand:\n",
    "        return dna.replace(\"T\", \"U\")\n",
    "    else:\n",
    "        base_pairs = {\"A\": \"U\", \"C\": \"G\", \"T\": \"A\", \"G\": \"C\"}\n",
    "        rna_sequence = \"\"\n",
    "        for nt in dna:\n",
    "            rna_sequence += base_pairs[nt]\n",
    "        return rna_sequence"
   ]
  },
  {
   "cell_type": "markdown",
   "id": "df4c87c6-991d-4185-b233-060178dea63e",
   "metadata": {},
   "source": [
    "You may not be entirely convinced yet... But, if you're using a code editor like **Microsoft Visual Studio Code** or **PyCharm**, you'll get error highlights if you try to call the function with the wrong type of argument."
   ]
  },
  {
   "attachments": {},
   "cell_type": "markdown",
   "id": "40e6b546-5dda-4867-956d-e2058596be2b",
   "metadata": {},
   "source": [
    "For collection types, like `list` and `tuple`, we can also modify the type hint to give information about the *contents*. We put the type contained in the collection in **square brackets** after the collection type name. For example, you can denote a list of strings as:\n",
    "\n",
    "```python\n",
    "my_list: list[str] = [\"Hello\", \"World\"]\n",
    "\n",
    "my_float_tuple: tuple[float, float] = (3.2, -5.7)\n",
    "```\n",
    "\n",
    "Another cool thing is that in some editors, if you hover your mouse over the function name, when you see the function header, you see the types! So this will help you get a better idea of what types you need."
   ]
  },
  {
   "cell_type": "markdown",
   "id": "e48fee10-97cc-4033-8176-fb2feb4e6d84",
   "metadata": {},
   "source": [
    "## Module Summary\n",
    "\n",
    "In this module, we've explored **functions**. Specifically, we've seen:\n",
    "\n",
    "* What functions are and how to **call** them.\n",
    "* How to **define new functions**, which take in **parameters** and **return** results.\n",
    "* How to **document** functions using **docstrings** and **type hints** to make them easier to understand and reuse.\n",
    "\n",
    "Now, let's take a look at our exercise!"
   ]
  },
  {
   "cell_type": "markdown",
   "id": "09f2816d-7cba-4611-be7f-df7fdcfcf93e",
   "metadata": {},
   "source": [
    "## Mini-Project Part I - Amino Acid Properties\n",
    "\n",
    "Proteins are composed of sequences of amino acids, arranged in polypeptide sequences. There are 20 common amino acids, which have different properties. We'll focus on polarity and charge. Amino acids are grouped into four categories:\n",
    "1. Non-polar\n",
    "2. Polar\n",
    "3. Acidic\n",
    "4. Basic\n",
    "\n",
    "Let's write a function called `compute_amino_acid_properties` that takes a peptide sequence and returns a dictionary containing the number of amino acids falling into each category, with the upper-cased categ. I've given you a dictionary with the amino acids and their properties as a starting point (obtained from [Wikipedia](https://en.wikipedia.org/wiki/DNA_and_RNA_codon_tables))."
   ]
  },
  {
   "cell_type": "code",
   "execution_count": null,
   "id": "8112d558-ad52-40c7-be5b-913138edf34c",
   "metadata": {},
   "outputs": [],
   "source": [
    "AMINO_ACID_PROPERTIES = {\n",
    "    \"NON_POLAR\": [\"F\", \"L\", \"I\", \"M\", \"V\", \"P\", \"A\", \"W\", \"G\"],\n",
    "    \"POLAR\": [\"S\", \"T\", \"Y\", \"Q\", \"N\", \"C\"],\n",
    "    \"ACIDIC\": [\"D\", \"E\"],\n",
    "    \"BASIC\": [\"H\", \"K\", \"R\"]\n",
    "}\n",
    "\n",
    "# Your code here"
   ]
  },
  {
   "cell_type": "code",
   "execution_count": null,
   "id": "e78ac597-359e-4217-9029-a26cb0dfad77",
   "metadata": {},
   "outputs": [],
   "source": [
    "# Here's an artificial amino acid sequence to test with:\n",
    "test_peptide = (\"EDEQLPAMFYDHSRMGQDCTIQYRAFFKFKCDEVVICPRMCRFDM\"\n",
    "                \"GYLSCNWPDQWQFWPPNPHTDSTWVSLDYPLRWDCCRKPHTFEPY\"\n",
    "                \"TMHASWCTERDPDIWACIKDSWMSPFEPQGSWGSTELVKEDPGFF\"\n",
    "                \"SVFALRPCVWAAPTT\")\n"
   ]
  },
  {
   "cell_type": "markdown",
   "id": "d9dc7f5a-45ad-4a7c-8035-54c505a08e59",
   "metadata": {},
   "source": [
    "# Module 2 - Advanced Python Features\n",
    "\n",
    "We've now seen the basics of using functions to perform repeated behaviour. Now, let's take a dive into some more advanced, more mysterious features in Python. In this module, we'll see how to get more done with less code, how to represent restricted types of data and how to more easily and clearly package together multiple pieces of data. Here's the outline for this module:\n",
    "\n",
    "1. One-liners: Some Python Syntactic Sugar\n",
    "    1. List and dictionary comprehensions\n",
    "    2. Ternary operators (Bonus)\n",
    "2. A Brief Overview of Classes\n",
    "    1. Description of classes, attributes and methods\n",
    "3.\tEnumerations\n",
    "    1. What are enumerations?\n",
    "    2. Defining enumerations\n",
    "    3. Using enumerations\n",
    "4.\tIntroduction to Data Classes\n",
    "    1. What is a data class?\n",
    "    2. Defining data classes\n",
    "5.\tExercise"
   ]
  },
  {
   "cell_type": "markdown",
   "id": "3bcb5232-b333-4cea-bd6e-15842b6e693b",
   "metadata": {},
   "source": [
    "## One-liners: Some Python Syntactic Sugar\n",
    "\n",
    "You may have heard that Python can do a lot of things with only one line of code. Well, now we'll see how to use this dark art..."
   ]
  },
  {
   "cell_type": "markdown",
   "id": "73ea2bb4-b1dd-434e-a587-9bdbffa7e313",
   "metadata": {},
   "source": [
    "### List and Dictionary Comprehensions\n",
    "\n",
    "Let's say you have a list and you want to do something for each entry of the list, and store the results in a new list. You could use a `for` loop to iterate over each item, like this:\n",
    "\n",
    "```python\n",
    "\n",
    "my_list = ...\n",
    "\n",
    "my_new_list = []\n",
    "\n",
    "for item in my_list:\n",
    "    result = do_something_cool(item)\n",
    "    my_new_list.append(result)\n",
    "\n",
    "```\n",
    "\n",
    "Let's do an example. Let's say we have a list of lowercased nucleotide strings and we want to put them all into upper case. Good news! Strings have the [`str.upper()`](https://docs.python.org/3/library/stdtypes.html#str.upper) method that produces a new uppercase string based on the current string. \n",
    "\n",
    "Let's write the code to call this method on each of our sequences:"
   ]
  },
  {
   "cell_type": "code",
   "execution_count": null,
   "id": "510f6224-35a4-422b-a6c3-498820b6503d",
   "metadata": {},
   "outputs": [],
   "source": [
    "my_nucleotide_sequences = [\n",
    "    \"aaatcctggt\", \"ttatagccgata\", \"actttgacatata\", \"cgcgcgatagcagag\", \"ataaacagaatatac\"\n",
    "]\n",
    "\n",
    "# Your code here to convert the sequences to upper case\n"
   ]
  },
  {
   "cell_type": "markdown",
   "id": "f0a204d6-3d35-4044-bee8-490116ffb1fb",
   "metadata": {},
   "source": [
    "But, this takes up a few lines... Well, there's actually a shorter way of iterating over a list... Introducing **List Comprehensions**.\n",
    "\n",
    "A **list comprehension** is a convenient way of writing code to perform an operation on each item in a list, and build the results into a new list.\n",
    "\n",
    "Here's the syntax:\n",
    "\n",
    "```python\n",
    "my_list = ...\n",
    "\n",
    "my_new_list = [do_something_cool(item) for item in my_list]\n",
    "\n",
    "```\n",
    "\n",
    "This code is much more compact! Let's apply it to our sequences from before:"
   ]
  },
  {
   "cell_type": "code",
   "execution_count": null,
   "id": "d7acb52f-bee7-4dc8-9e5c-114540e0edbe",
   "metadata": {},
   "outputs": [],
   "source": [
    "my_nucleotide_sequences = [\n",
    "    \"aaatcctggt\", \"ttatagccgata\", \"actttgacatata\", \"cgcgcgatagcagag\", \"ataaacagaatatac\"\n",
    "]\n",
    "\n",
    "# Your code here to convert the sequences to upper case\n"
   ]
  },
  {
   "cell_type": "markdown",
   "id": "f5aedd67-f3ef-48a8-a115-4274f8cae3a9",
   "metadata": {},
   "source": [
    "Wow! We've managed to replace a whole loop!\n",
    "\n",
    "**If you're confused:** Notice that the code inside the brackets is essentially a `for` loop written backwards. You're writing the code that you want to run `for` each of the entries. **Like** in the `for` loop, we define a variable that will get a different value at each iteration. **Unlike** the `for` loop, we put the `for` statement *after* the code we want to run.\n",
    "\n",
    "We don't have to just use a list! We can also use a `range`, like in a `for` loop. Let's say we want to get a list of the first 10 perfect squares. We could write this using a `for` loop, like so:"
   ]
  },
  {
   "cell_type": "code",
   "execution_count": null,
   "id": "df1a7477-43fd-426b-867c-aa888ab98ac0",
   "metadata": {},
   "outputs": [],
   "source": [
    "# Your code here to compute perfect squares\n"
   ]
  },
  {
   "cell_type": "markdown",
   "id": "cc28369a-bf27-467c-bef8-c032485510b9",
   "metadata": {},
   "source": [
    "Or, we could use a list comprehension:"
   ]
  },
  {
   "cell_type": "code",
   "execution_count": null,
   "id": "66984770-318d-4177-8706-b0ee69956e85",
   "metadata": {},
   "outputs": [],
   "source": [
    "# Your code here for a list comprehension\n"
   ]
  },
  {
   "cell_type": "markdown",
   "id": "d094139e-440a-4905-8700-e3d91029a9ce",
   "metadata": {},
   "source": [
    "Pretty cool, eh? But wait, there's more! We can also do this for dictionaries! Let's say we have a list of DNA sequences and we want to get the length of each and store it in a dictionary where the keys are the sequences and the values are the lengths. Here's how we can use a **dictionary comprehension** to do this:"
   ]
  },
  {
   "cell_type": "code",
   "execution_count": null,
   "id": "444e8494-285b-4a07-b2cb-73d6b65b7941",
   "metadata": {},
   "outputs": [],
   "source": [
    "my_sequences = [\n",
    "    \"CGTGGA\",\n",
    "    \"CAGCGCTCTGAC\",\n",
    "    \"CCAGTTCCT\",\n",
    "    \"CACACGTCGCC\",\n",
    "    \"GGCGAC\",\n",
    "    \"GTCGAGC\",\n",
    "    \"TGATAGAC\",\n",
    "    \"AAAGCGTGGTGGA\",\n",
    "]\n",
    "\n",
    "# Your code here for a dictionary comprehension\n"
   ]
  },
  {
   "cell_type": "markdown",
   "id": "46075db8-4e55-4c20-a9df-b62ad2c9011c",
   "metadata": {},
   "source": [
    "I think I've now convinced you that these list and dictionary comprehensions are useful and save a lot of code! But, there's still more than we can do!\n",
    "\n",
    "Let's say we only want to keep entries that meet a certain condition? For example, let's say we want to only keep sequences that are above a certain length, or that start with a certain nucleotide? Before I told you about list comprehensions, this would involve quite a bit more code... but now, we can actually slip an `if` condition into the list comprehension! Here's the syntax:\n",
    "\n",
    "```python\n",
    "\n",
    "my_list = ...\n",
    "\n",
    "my_filtered_list = [my_func(item) for item in my_list if some_condition]\n",
    "\n",
    "```\n",
    "\n",
    "**Note:** the `if` statement **must** come **after** the `for`.\n",
    "\n",
    "Let's take our same sequences and keep all those that start with `\"C\"` and longer than 8 nucleotides:"
   ]
  },
  {
   "cell_type": "code",
   "execution_count": null,
   "id": "8d4418da-e895-4b6e-ab6a-38ecf8035318",
   "metadata": {},
   "outputs": [],
   "source": [
    "# Your code here for filtering the sequences\n",
    "\n"
   ]
  },
  {
   "cell_type": "markdown",
   "id": "fe015c11-ce4a-4c01-a3c0-f6c977b92873",
   "metadata": {},
   "source": [
    "Want more details? Check out [this page](https://docs.python.org/3/tutorial/datastructures.html#list-comprehensions) in the Python documentation.\n",
    "\n",
    "Let's now pivot to something a bit different..."
   ]
  },
  {
   "cell_type": "markdown",
   "id": "ddd76c7c-2ccd-4f12-9ce4-115ac77cb6aa",
   "metadata": {},
   "source": [
    "### Ternary Operators (Bonus)\n",
    "\n",
    "A **ternary operator** is a way of assigning a value based on a condition. Let's say we want to do this without any special operator... What's involved?\n",
    "\n",
    "Let's look at an example. Let's say we want to get the boiling point of water. If the temperature is in Celsius, we want the value to be 100, otherwise (if the temperature is in Fahrenheit), we want the value to be 212. Let's write an `if`-statement to assign this value."
   ]
  },
  {
   "cell_type": "code",
   "execution_count": null,
   "id": "831eac27-dd14-4ef5-8df6-5db7784f4dfe",
   "metadata": {},
   "outputs": [],
   "source": [
    "temperature_units = \"C\"\n",
    "\n",
    "# Your code here\n"
   ]
  },
  {
   "cell_type": "markdown",
   "id": "12feff0d-c369-49a9-8768-da8c7725db30",
   "metadata": {},
   "source": [
    "This makes sense, but it's a bit long. We have our long variable name in both branches, and nothing else. We run the risk of misspleling our variable name in one branch, which could have very bad consequences.\n",
    "\n",
    "We can actually replace the `if` statement with one line. Here's the syntax for defining a ternary operator:\n",
    "\n",
    "```python\n",
    "\n",
    "my_variable = val_a if condition else val_b\n",
    "\n",
    "```\n",
    "\n",
    "Let's think about what this means...\n",
    "\n",
    "We're assigning a variable. This variable `my_variable` get the value `val_a` if the `condition` is `True`, and otherwise gets `val_b`.\n",
    "\n",
    "Let's now rewrite our temperature example using a ternary expression:"
   ]
  },
  {
   "cell_type": "code",
   "execution_count": null,
   "id": "590885aa-572e-4189-a4da-b7d2e35b2a99",
   "metadata": {},
   "outputs": [],
   "source": [
    "temperature_units = \"C\"\n",
    "\n",
    "# Your code here\n"
   ]
  },
  {
   "cell_type": "markdown",
   "id": "b4789cbc-7b85-4f75-9f9c-74145fec0c80",
   "metadata": {},
   "source": [
    "**Note:** You must have exactly two possible values for the variable. You **cannot** omit the `else` here."
   ]
  },
  {
   "cell_type": "markdown",
   "id": "7f7e0c4f-7370-4389-a7ac-ccd2cf395b9d",
   "metadata": {},
   "source": [
    "## A Brief Overview of Classes\n",
    "\n",
    "By now, you've almost certainly heard that Python is an **object-oriented programming language**. But wait!!! What does that even mean?\n",
    "\n",
    "Well, at a basic level, it means that everything is an object. Does that help? Probably not.\n",
    "\n",
    "Let's take a step back...\n",
    "\n",
    "An **object** is a combination of **data** and of **functions** that can modify the data. The data contained in an object are known as **attributes** and the functions associated with the object are known as **methods**.\n",
    "\n",
    "All objects have a **type**, which tells you what kind of object they are. All objects of the same type have the **same** attributes (although not necessarily the same *value*) and the same available methods.\n",
    "\n",
    "For example, let's say we're talking about cars. All cars have *attributes*, like colour, year and model. They also have *methods*, like turning on, turning off, switching gear, and activating the headlights. Your car may be red while mine may be blue, and they may be from different manufacturers and have different ages, but they're still both cars. They both *have* these attributes and they both can do the same things (methods).\n",
    "\n",
    "For a biological example, let's say we're looking at mice for an experiment. All mice have certain basic biological parameters, such as age and sex. They may also have attributes related to your experiment, such as a specific genotype or phenotype. All these define the **attributes** of each mouse. There are also certain experimental manipulations that can be performed on the mice, such as feeding, or exercising (I don't work with mice, but bear with me...). These define the mouse **methods**.\n",
    "\n",
    "Now, you may be wondering, how do we create new objects of a certain type? How do we create new cars or new mice? The answer is **classes**.\n",
    "\n",
    "A **class** is essentially a blueprint for creating new objects. When creating a class, **you** define the *attributes* and the *methods* that **you** want your new type of object to have. Then, you can create *instances* or new objects that have that type.\n",
    "\n",
    "We're not going to discuss classes in general today. If you're curious, here's [a page](https://docs.python.org/3/tutorial/classes.html) from the Python documentation that explores classes in more detail. We're going to focus on two special types of classes: **enumerations** and **data classes**."
   ]
  },
  {
   "cell_type": "markdown",
   "id": "34892351-e266-4d9d-a3d3-d17309f356b8",
   "metadata": {},
   "source": [
    "## Data Classes\n",
    "\n",
    "Let's think a bit about one of my examples from before, let's say we're writing code to keep track of mice for an experiment. Well, each mouse has a few attributes: identifier, age, sex, height, weight and genotype.\n",
    "\n",
    "To represent each mouse, we technically don't need anything special. We could just use a dictionary:"
   ]
  },
  {
   "cell_type": "code",
   "execution_count": null,
   "id": "73c91899-43ed-4f5d-a7f6-e9a5cd5723e3",
   "metadata": {},
   "outputs": [],
   "source": [
    "# Your code here to create a mouse dictionary\n",
    "\n"
   ]
  },
  {
   "attachments": {},
   "cell_type": "markdown",
   "id": "197429c7-b1aa-42a6-b048-516e2ba5b9ac",
   "metadata": {},
   "source": [
    "So, this works... if we only have one mouse. The second we want to create more mice, it gets a bit complicated. And we also have to make sure that we type the keys in the same way each time...\n",
    "\n",
    "Good news! We can create a **data class**.\n",
    "\n",
    "**Data classes** are *classes* that are designed mainly to hold *data*. Seems simple enough. We had a mouse that was just a bunch of data, so we can create a class that just holds that data.\n",
    "\n",
    "Here's the syntax:\n",
    "\n",
    "```python\n",
    "\n",
    "import dataclasses\n",
    "\n",
    "\n",
    "@dataclasses.dataclass\n",
    "class MyDataClass:\n",
    "    \"\"\"A class to contain data.\n",
    "\n",
    "    This class contains a number of different attributes.\n",
    "    \"\"\"\n",
    "    my_first_attribute: int\n",
    "    my_second_attribute: str\n",
    "    my_third_attribute: float = 2.3\n",
    "    ...\n",
    "\n",
    "```\n",
    "\n",
    "Let's look at this code in a bit more detail.\n",
    "\n",
    "First, we have an `import` statement. Dataclasses are available thanks to a pre-installed module in the Python Standard Library. We need to import this module to be able to use it.\n",
    "\n",
    "Next, we have a class declaration, with an extra weird thing above the `class` line. The `@dataclasses.dataclass` is a special Python object called a *decorator*. We won't go into any detail above these, but it is **extremely** important to remember to put this decorator. This decorator takes the class that you've defined and runs some code to turn it into a data class.\n",
    "\n",
    "**If you forget the decorator, your data class WILL NOT WORK.**\n",
    "\n",
    "Then, in the class definition, we include all our attributes **with type annotations**.\n",
    "\n",
    "That's it. We get a clear view of our attributes and any default values. **Note:** Like with functions, any attributes with a default value must come **after** those without a default.\n",
    "\n",
    "Let's now try to write a data class for our mouse management. Let's assume that most mice are heterozygous, and we'll set that as the default value for `genotype`:"
   ]
  },
  {
   "cell_type": "code",
   "execution_count": null,
   "id": "6679c4c2-8d1e-4bab-8b4f-f7cc1b7cff49",
   "metadata": {},
   "outputs": [],
   "source": [
    "# Your code here to define the Mouse data class\n",
    "\n"
   ]
  },
  {
   "cell_type": "markdown",
   "id": "d3eeaa3e-3e1c-4feb-9f67-0f541d2f9637",
   "metadata": {},
   "source": [
    "So, this defines our `Mouse` **class**, which is a *blueprint* for creating objects of type `Mouse`. To create an actual mouse, we need to *instantiate* our class. To do this, we write the class name, and then we put the attributes in brackets, just like calling a function. In fact, when we instantiate a class, we are calling a special type of function, known as an *initialiser*. Let's create a few experimental mice:"
   ]
  },
  {
   "cell_type": "code",
   "execution_count": null,
   "id": "597733d0-9415-4cec-9c0a-380d165b8df8",
   "metadata": {},
   "outputs": [],
   "source": [
    "# Your code here to create some mice\n",
    "\n"
   ]
  },
  {
   "cell_type": "markdown",
   "id": "70999053-b849-4f80-af1d-41d07756bfae",
   "metadata": {},
   "source": [
    "Now, for another nice feature, let's try to print our data class instances:"
   ]
  },
  {
   "cell_type": "code",
   "execution_count": null,
   "id": "187e86fc-1f49-4573-b33a-e2a912fbfa78",
   "metadata": {},
   "outputs": [],
   "source": [
    "# Your code here\n",
    "\n"
   ]
  },
  {
   "cell_type": "markdown",
   "id": "eaa5775d-b6d8-45eb-bffa-75b7ca04af2d",
   "metadata": {},
   "source": [
    "So, when we `print` an instance of a data class, we get a nicely formatted string!\n",
    "\n",
    "In practice, I recommend using data classes when the main purpose of your class is simply to store data.\n",
    "\n",
    "**Tip:** Data classes are also useful if you are returning a lot of values from a function, or if you're passing in a lot of parameters.\n",
    "\n",
    "Hopefully, by now I've convinced you that for this use case, a data class is more effective than a dictionary. Instead of having to remember keys, we can use attributes and your code editor can even suggest attributes as you type. Your editor may also warn you if you try to pass the wrong type of data in."
   ]
  },
  {
   "cell_type": "markdown",
   "id": "ae1ed566-85cf-44b0-8bd3-bf5feaada0e9",
   "metadata": {},
   "source": [
    "Note that **not every class should be a data class**, especially if you need to do additional processing when initialising the class. However, for many uses, if all you need to do is group together basic data and pass it around, a data class is just what you need!\n",
    "\n",
    "(On a personal note, for actual data processing, I typically find myself using data classes more than regular classes.)\n",
    "\n",
    "If you want to learn more about data classes and all the fun stuff you can do with them, consult [this page](https://docs.python.org/3/library/dataclasses.html) in the Python documentation."
   ]
  },
  {
   "cell_type": "markdown",
   "id": "27a749b6-9e41-410a-85e3-0a055aebd574",
   "metadata": {},
   "source": [
    "## Enumerations\n",
    "\n",
    "Let's think about some of the attributes in that last example... We had two attributes that took in textual information: `sex` and `genotype`. There's a bit of a problem with this..."
   ]
  },
  {
   "cell_type": "code",
   "execution_count": null,
   "id": "31aa6246-5ee5-4b49-abc1-c7c4751c0bdf",
   "metadata": {},
   "outputs": [],
   "source": [
    "# Your code here to illustrate our problem\n",
    "\n"
   ]
  },
  {
   "cell_type": "markdown",
   "id": "d99d8c86-b7bf-482e-b4be-219ce8d80066",
   "metadata": {},
   "source": [
    "So, we can put in the values as upper case or lower case for the `sex`, without any sort of standardisation, and we can actually just put in any string!!! There's no enforcement for these attributes! The `sex` should not be allowed to be just any string, and neither should the `genotype`. Good news! We can restrict these values by defining an **enumeration**.\n",
    "\n",
    "An **enumeration** is a *special type of class* that defines a small number of possible **members**, each of which has its own **value**, which can be of any Python type. \n",
    "\n",
    "A variable that holds an enumeration really stores a reference to one of its members.\n",
    "\n",
    "Great use-cases for enumerations include when you have to consider left and right (2 possible values), or the cardinal directions (4 possible values), or even deoxyribonucleotides (4 possible values).\n",
    "\n",
    "Let's look at the syntax:\n",
    "\n",
    "```python\n",
    "\n",
    "import enum\n",
    "\n",
    "class MyEnum(enum.Enum):\n",
    "    \"\"\"My enumeration that holds awesome values.\"\"\"\n",
    "    MEMBER_A = value_a\n",
    "    MEMBER_B = value_b\n",
    "    MEMBER_C = value_c\n",
    "    ...\n",
    "\n",
    "```\n",
    "\n",
    "Here are some notes:\n",
    "\n",
    "* Like with data classes, enumerations are included in a separate module in the Python Standard Library. You must import the `enum` module to be able to create enumerations.\n",
    "* Unlike data classes, there's no decorator here. You start right away with the `class` keyword, telling Python that you're defining a class.\n",
    "* But, after you give your class a name (here `MyEnum`), you need to write `enum.Enum` in brackets. This tells Python that your making a new enumeration.\n",
    "* Then, you put a colon, like with function definitions.\n",
    "* If you want (and if you want yourself and others to understand your code), you can put a docstring under the class definition.\n",
    "* Then, you define each **member** like you would an attribute in a data class, but here the member names are typically in UPPER_CASE. There's no need to put a type annotation here.\n",
    "* For each **member**, you must also provide a **value**. The values are typically either integers or strings, but you can use other objects as well.\n",
    "\n",
    "If you don't care about the values, you can also just use `enum.auto()` as the value, or you can declare the enumeration using the following syntax:\n",
    "\n",
    "```python\n",
    "import enum\n",
    "\n",
    "MyEnum = enum.Enum(\"MyEnum\", [\"MEMBER_A\", \"MEMBER_B\", \"MEMBER_C\", ...])\n",
    "```\n",
    "\n",
    "I personally don't use this syntax much, but it's there if you want to use it. The idea is that you create a new variable which will hold the enumeration. You then instantiate an `Enum` from module `enum`, passing as arguments the name that you want the enumeration to have, followed by a list of all the member names.\n",
    "\n",
    "So, now let's clean up our `Mouse` data class a bit by defining enumerations for `sex` and for `genotype`."
   ]
  },
  {
   "cell_type": "code",
   "execution_count": null,
   "id": "61a36418-9241-469f-9e6b-7d454835805b",
   "metadata": {},
   "outputs": [],
   "source": [
    "# Your code here to define the enumerations for sex and genotype\n",
    "\n"
   ]
  },
  {
   "cell_type": "markdown",
   "id": "90f22f22-4c8e-4e90-ac5c-2c3aba88cb5e",
   "metadata": {},
   "source": [
    "Now we don't have to worry about standardising our strings! Now, when we create our `Mouse` objects, instead of passing strings as arguments for these parameters, we pass in members of our enumerations. To access specific members, we use our typical **dot notation**, like so:\n",
    "\n",
    "```python\n",
    "\n",
    "my_member = MyEnum.MEMBER_NAME\n",
    "\n",
    "```\n",
    "\n",
    "For example, let's update our `Mouse` class and create a few mice:"
   ]
  },
  {
   "cell_type": "code",
   "execution_count": null,
   "id": "08e0740a-15e8-4791-8869-46c5861e397f",
   "metadata": {},
   "outputs": [],
   "source": [
    "# Your code here to update the Mouse data class\n",
    "\n",
    "@dataclasses.dataclass\n",
    "class Mouse:\n",
    "    \"\"\"Experimental mouse.\"\"\"\n",
    "    identifier: int\n",
    "    sex: str\n",
    "    age: int\n",
    "    height: float\n",
    "    weight: float\n",
    "    genotype: str = \"heterozygous\""
   ]
  },
  {
   "cell_type": "code",
   "execution_count": null,
   "id": "2a170f9d-c729-4c8c-9501-fa737c544d02",
   "metadata": {},
   "outputs": [],
   "source": [
    "# Your code here to create some mice\n",
    "mouse1 = Mouse(1, Sex.MALE, 1, 7.7, 27, Genotype.HOMOZYGOUS_RECESSIVE)\n",
    "mouse2 = Mouse(5, Sex.FEMALE, 4, 6, 23)\n",
    "mouse3 = Mouse(identifier=6, sex=Sex.MALE, age=7, height=8, weight=34, genotype=Genotype.HETEROZYGOUS)\n",
    "\n",
    "print(mouse1)\n",
    "print(mouse2)\n",
    "print(mouse3)"
   ]
  },
  {
   "cell_type": "markdown",
   "id": "df85c8c7-1d1a-4731-8637-7dc68d9bd5e0",
   "metadata": {},
   "source": [
    "Notice that when we print our mice, we see the enumeration members, with both the name and the associated value. Well, we can actually access the values via the `value` attribute on each member, using the syntax:\n",
    "\n",
    "```python\n",
    "\n",
    "my_value = MyEnum.MEMBER_NAME.value\n",
    "\n",
    "```\n",
    "\n",
    "Let's look at some examples:"
   ]
  },
  {
   "cell_type": "code",
   "execution_count": null,
   "id": "f750f4d9-dc0e-45df-933d-114ef5fbc589",
   "metadata": {},
   "outputs": [],
   "source": [
    "# Your code here to access the values for our enums\n",
    "\n"
   ]
  },
  {
   "cell_type": "markdown",
   "id": "c7fe40b1-aeac-4eea-9791-a315798e913a",
   "metadata": {},
   "source": [
    "There's plenty more out there about enumerations! If you want to learn more, please consult the following [reference page](https://docs.python.org/3/library/enum.html) on the `enum` module, as well as [this tutorial](https://docs.python.org/3/howto/enum.html) on how to use enumerations. They provide very thorough explanations, and I have consulted both in preparing this material."
   ]
  },
  {
   "cell_type": "markdown",
   "id": "a9a024d6-6140-41a9-a0bc-6728888dd602",
   "metadata": {},
   "source": [
    "#### Optional Material: Accessing Members using Values and Names\n",
    "\n",
    "In addition to the dot notation, we can use both the member names and the values to access specific members.\n",
    "\n",
    "Using the **values**, we can get specific members by placing the value in round brackets after the enumeration name:\n",
    "\n",
    "```python\n",
    "\n",
    "my_member = MyEnum(my_value)\n",
    "\n",
    "```\n",
    "\n",
    "Alternatively, using the member name, we can get the member using square brackets:\n",
    "\n",
    "```python\n",
    "\n",
    "my_member = MyENUM[\"MEMBER_NAME\"]\n",
    "\n",
    "```\n",
    "\n",
    "Let's see some examples:"
   ]
  },
  {
   "cell_type": "code",
   "execution_count": null,
   "id": "b8ad2493-b6b8-44df-884b-72f074f36d3e",
   "metadata": {},
   "outputs": [],
   "source": [
    "# Your code here for some access examples\n"
   ]
  },
  {
   "cell_type": "markdown",
   "id": "9d3e68b7-e3a5-4fa2-a2e8-7e83605a4075",
   "metadata": {},
   "source": [
    "Using the `name` attribute, we can also access the name of each member:"
   ]
  },
  {
   "cell_type": "code",
   "execution_count": null,
   "id": "5e64670c-0ac9-495a-921d-2618f57d3ab0",
   "metadata": {},
   "outputs": [],
   "source": [
    "# Your code here to look at enum names\n"
   ]
  },
  {
   "cell_type": "markdown",
   "id": "7d22e1aa-d642-4d76-b32a-c5f58dfaa1c2",
   "metadata": {},
   "source": [
    "#### Optional Material: Enumerations and Iterations\n",
    "\n",
    "Finally, it's also possible to iterate over the members in an enumeration using the `for` loop, including in a list comprehension! Let's do a simple iteration example for the `Genotype`:"
   ]
  },
  {
   "cell_type": "code",
   "execution_count": null,
   "id": "43141963-2a9f-4de7-8d64-9f23052eb97c",
   "metadata": {},
   "outputs": [],
   "source": [
    "# Your code here to iterate over the Genotypes\n"
   ]
  },
  {
   "cell_type": "markdown",
   "id": "0f798c69-5f4b-4586-ae67-0b0c35dd9e27",
   "metadata": {},
   "source": [
    "## Module Summary\n",
    "\n",
    "In this module, we've explored some of the secret magic that you can do in Python. Specifically, we saw:\n",
    "\n",
    "* How to replace `if` statements and `for` loops with single line **ternary expressions** and **list comprehensions**.\n",
    "* That **objects** contain **attributes** (data) and **methods** (functions) and that new **types** of objects can be defined using **classes**.\n",
    "* That **data classes** can be used to create objects that contain mostly data.\n",
    "* That **enumerations** can be used to represent a limited number of possible values.\n",
    "\n",
    "With all these ideas in mind, we're ready to get back to our experimental project!"
   ]
  },
  {
   "cell_type": "markdown",
   "id": "20cccb5a-289c-4456-8b12-d8226198e2dd",
   "metadata": {},
   "source": [
    "## Mini-Project Part II\n",
    "\n",
    "Earlier, we defined a way to compute amino acid properties. Now, let's extend our work in two different ways.\n",
    "\n",
    "(a) We'll later want to study the frequencies of different amino acids. First, let's use Python one-liners to extract all the amino acids with acidic side chains in a given protein."
   ]
  },
  {
   "cell_type": "code",
   "execution_count": null,
   "id": "c29fd63d-20e1-4489-8101-edc85a86d2a6",
   "metadata": {},
   "outputs": [],
   "source": [
    "AMINO_ACID_PROPERTIES = {\n",
    "    \"NON_POLAR\": [\"F\", \"L\", \"I\", \"M\", \"V\", \"P\", \"A\", \"W\", \"G\"],\n",
    "    \"POLAR\": [\"S\", \"T\", \"Y\", \"Q\", \"N\", \"C\"],\n",
    "    \"ACIDIC\": [\"D\", \"E\"],\n",
    "    \"BASIC\": [\"H\", \"K\", \"R\"]\n",
    "}\n",
    "\n",
    "test_peptide = (\"EDEQLPAMFYDHSRMGQDCTIQYRAFFKFKCDEVVICPRMCRFDM\"\n",
    "                \"GYLSCNWPDQWQFWPPNPHTDSTWVSLDYPLRWDCCRKPHTFEPY\"\n",
    "                \"TMHASWCTERDPDIWACIKDSWMSPFEPQGSWGSTELVKEDPGFF\"\n",
    "                \"SVFALRPCVWAAPTT\")\n",
    "# Your code here for part (a)\n",
    "\n"
   ]
  },
  {
   "cell_type": "markdown",
   "id": "43bf4146-9e38-4cad-919c-e87c4e8cfe69",
   "metadata": {},
   "source": [
    "(b) We're trying to build up a simple program for managing cells that we're using for our experiments. We'll want to compare cells from different species (Human, Chimpanzee, Pig, Mouse) and in different health states (disease vs. healthy). For each individual, we need to also record their height, weight and sex, as well as the peptide sequence of our protein of interest. Using data classes and enumerations, write a class to represent an individual experimental subject."
   ]
  },
  {
   "cell_type": "code",
   "execution_count": null,
   "id": "933706cd-2cf0-418f-97de-e552b30153fc",
   "metadata": {},
   "outputs": [],
   "source": [
    "# Your code here to represent a subject\n",
    "\n"
   ]
  },
  {
   "cell_type": "markdown",
   "id": "cab7659d-d358-42fc-96d1-a9e150bc5603",
   "metadata": {},
   "source": [
    "(c) Bonus: Build a list of individuals of different species, and then use a Python one-liner to extract all the mice."
   ]
  },
  {
   "cell_type": "code",
   "execution_count": null,
   "id": "719c76ae-2fab-45fd-b3a8-8ee2412188cf",
   "metadata": {},
   "outputs": [],
   "source": [
    "# Your code here to solve the bonus\n"
   ]
  },
  {
   "cell_type": "markdown",
   "id": "2d4657a3-f670-4977-9386-ef797448b07e",
   "metadata": {},
   "source": [
    "# Module 3 - Introduction to NumPy Arrays\n",
    "\n",
    "So, now we've seen some cool stuff that we can do using just what comes in the box with Python, whether defining functions, using built-in one-liners, or defining more advanced data types using enumerations and data classes. In this module, we start focussing on what you can do using *external packages*. The package we'll focus on in this module is NumPy. Here's the outline for this module:\n",
    "\n",
    "1. Introduction to Arrays\n",
    "    1. What is an array?\n",
    "    2. Creating arrays\n",
    "    3. Indexing arrays\n",
    "    4. Simple assignments\n",
    "2. Basic Array Operations\n",
    "    1. Element-wise arithmetic\n",
    "    2. Matrix multiplication\n",
    "3. Advanced Array Operations\n",
    "    1. Arrays as objects\n",
    "    2. Statistics on arrays\n",
    "    3. Reshaping and combining arrays\n",
    "    5. Exploring the Documentation\n",
    "4. Exercise\n"
   ]
  },
  {
   "cell_type": "markdown",
   "id": "647ddc0e-484d-4307-bd9b-48efd645bec6",
   "metadata": {},
   "source": [
    "\n",
    "## Introduction to Arrays\n",
    "\n",
    "### What is an array?\n",
    "Let's shift gears a bit... Let's say you want to work with images. An image is made up of pixels, which are square cells in a 2D grid. Each pixel contains an intensity level. So, we want to store a 2D grid, full of numbers.\n",
    "\n",
    "### Creating arrays\n",
    "\n",
    "#### Pure Python\n",
    "We know how to store a 1D collection of numbers using a `list`. Well, wouldn't a 2D grid then just be a list of lists? The outer list contains the rows, and the inner list contains the columns within each row.\n",
    "\n",
    "Let's use list comprehensions to generate a 2D grid with 10 rows and 11 columns, with the numbers `0` to `10` multiplied by the row number in each row:"
   ]
  },
  {
   "cell_type": "code",
   "execution_count": null,
   "id": "69be060a-20da-40cb-99cb-38aa41b9eca5",
   "metadata": {},
   "outputs": [],
   "source": [
    "# Your code here to generate our 2D grid\n",
    "\n"
   ]
  },
  {
   "cell_type": "markdown",
   "id": "40a30629-3f51-41ce-83f2-281a4b789242",
   "metadata": {},
   "source": [
    "So, this seems great... but we have two problems! \n",
    "\n",
    "##### First Problem - Row Lengths\n",
    "\n",
    "Remember that we can easily add or remove elements of a list. What does that mean here? Well, since each row is a list, we can change the length of the rows, producing a grid where not all rows have the same number of columns. This doesn't make sense!\n",
    "\n",
    "##### Second Problem - Operations\n",
    "\n",
    "Ok, let's say your code behaves nicely and doesn't change the lengths of any rows. So, no need to worry about problem 1. But now, you want to perform matrix addition on two of our grids. We need to add the numbers together in the corresponding grid cells. We *can* do this... but it's slow; we need to use two nested `for` loops: one to iterate over the rows and another to iterate over the columns within the rows. And we also need to make sure the grids have compatible sizes. We can't add where there isn't a corresponding element!\n",
    "\n",
    "These two problems make working with these types of pure Python list-based arrays very annoying. Good news! There's a better way!"
   ]
  },
  {
   "cell_type": "markdown",
   "id": "1bedbf39-98c6-425d-a4dc-fb68369b208a",
   "metadata": {},
   "source": [
    "#### Introducing NumPy\n",
    "\n",
    "The solution to these problems is **NumPy**, a free and open source package that implements array operations. Unlike working with lists of lists, NumPy allows operations to be easily performed on high-dimensional data. The centre of everything is the `ndarray`, the $n$-dimensional NumPy array.\n",
    "\n",
    "The official NumPy documentation can be found on the [NumPy website](https://numpy.org/doc/stable/).\n",
    "\n",
    "##### NumPy Fundamentals\n",
    "\n",
    "Very important: **Arrays are *not* lists**. Here are the important differences:\n",
    "\n",
    "* NumPy arrays have a **fixed** size. You **cannot** add new elements to an array.\n",
    "* NumPy arrays can easily have more than one dimension. For example, an array can be 2D (to represent a table or an image), or even higher dimensional. The dimensions are represented as a tuple. The length of this tuple is the number of dimensions, while each element in the tuple indicates the size of the array along that axis.\n",
    "* All elements in a NumPy array have the same type.\n",
    "* NumPy includes functions that perform mathematical operations on entire arrays without needing to perform iteration.\n",
    "\n",
    "##### Installing and Importing NumPy\n",
    "\n",
    "Let's see some of the basics of using NumPy arrays. But first, we need to make sure we have NumPy installed. If you installed Python using Anaconda, you already have NumPy. If you're using a different Python distribution, such as your system Python, Python from Homebrew, or miniconda, you need to install NumPy. Thankfully, the installation process is very easy!\n",
    "\n",
    "If you're using miniconda, you can install NumPy using `conda`:\n",
    "\n",
    "```bash\n",
    "conda install numpy\n",
    "```\n",
    "\n",
    "Or, for any Python environment, you can use `pip`:\n",
    "\n",
    "```bash\n",
    "pip install numpy\n",
    "```\n",
    "\n",
    "Once NumPy is installed, you must **import** it. When importing NumPy, we assign the package the nickname `np`:"
   ]
  },
  {
   "cell_type": "code",
   "execution_count": null,
   "id": "0bc2fd9d-7baf-472a-ac68-61c3ab14a46f",
   "metadata": {},
   "outputs": [],
   "source": [
    "# Your code here to import NumPy\n"
   ]
  },
  {
   "cell_type": "markdown",
   "id": "e1afe843-cbcb-4d1b-846f-c1620091cba2",
   "metadata": {},
   "source": [
    "Now that we have NumPy imported, we can start exploring!"
   ]
  },
  {
   "cell_type": "markdown",
   "id": "26dba51c-1de1-458d-94b8-8fe61b33d3ac",
   "metadata": {},
   "source": [
    "##### Creating NumPy Arrays\n",
    "\n",
    "There are a number of different ways of creating a NumPy array. We can create an array based on nested lists using the `np.array` function. Here's an example:"
   ]
  },
  {
   "cell_type": "code",
   "execution_count": null,
   "id": "74fee626-185e-4714-bbfd-7cbf1572779a",
   "metadata": {},
   "outputs": [],
   "source": [
    "# Your code here to make a simple 2D array\n"
   ]
  },
  {
   "cell_type": "markdown",
   "id": "f7dc63a7-d2ea-4894-b3a4-ac85e5eecfb2",
   "metadata": {},
   "source": [
    "Note that the lists need to line up properly. In an array, all rows **must** have the same number of elements (the same with columns and any other dimension). If the nested list sizes don't line up properly, you won't get the array you were expecting.\n",
    "\n",
    "In this example, we used a list of lists, but you can create arrays of **any dimension** by further nesting lists."
   ]
  },
  {
   "cell_type": "markdown",
   "id": "ba0db42a-e73b-49f3-bffd-43020da8a477",
   "metadata": {},
   "source": [
    "It's important to remember that arrays are **objects**, and so they have **attributes** and **methods**. One of the most important attributes is the `shape`, which tells you what... well, the shape of the array is. Let's look at our example array:"
   ]
  },
  {
   "cell_type": "code",
   "execution_count": null,
   "id": "28d99eed-77ae-4185-920a-764a3adc7e0c",
   "metadata": {},
   "outputs": [],
   "source": [
    "# Your code here to get the shape of the array\n",
    "\n"
   ]
  },
  {
   "cell_type": "markdown",
   "id": "1bf31d3b-2378-4c75-b759-b5b280561522",
   "metadata": {},
   "source": [
    "The `shape` attribute is a **tuple**, giving you the number of elements along each axis of the array. In our 2D array, we can think of the first number as the number of **rows** and the second as the number of **columns**.\n",
    "\n",
    "**Note:** This follows *matrix* order convention, **not** Cartesian order convention.\n",
    "\n",
    "The length of the `shape` tuple gives us the **number of dimensions** of the array. In our example, we had a 2D array, and there were thus 2 numbers. \n",
    "\n",
    "**Note:** We can also get the number of dimensions using the `ndim` attribute."
   ]
  },
  {
   "cell_type": "markdown",
   "id": "5f7dfa47-5cbc-4bae-95c3-a8fafa40405c",
   "metadata": {},
   "source": [
    "##### Other Ways to Create Arrays\n",
    "\n",
    "In addition to creating arrays based on lists, there are a couple of helpful functions for creating arrays of a specific size. These are `np.zeros` and `np.ones`. They each take as argument the shape (also known as size) of the desired array in the form of a tuple.\n",
    "\n",
    "Let's see some examples:"
   ]
  },
  {
   "cell_type": "code",
   "execution_count": null,
   "id": "1ea63e38-cc32-4d59-998a-77f3932c9747",
   "metadata": {},
   "outputs": [],
   "source": [
    "# Your code here to produce some arrays of ones and zeros.\n",
    "\n",
    "my_zeros = ...\n",
    "my_ones = ...\n",
    "\n",
    "print(f\"My Zeros, with shape {my_zeros.shape}\")\n",
    "print(my_zeros)\n",
    "\n",
    "print(\"\\n\")\n",
    "\n",
    "print(f\"My Ones, with shape {my_ones.shape}\")\n",
    "print(my_ones)"
   ]
  },
  {
   "cell_type": "markdown",
   "id": "5a88c081-0927-46bd-9bbe-f554c15c1f05",
   "metadata": {},
   "source": [
    "There's another easy way to create a 1D array. Using `np.arange`, we can create simple arrays of numbers separated by a consistent step size. There are different ways of using the function:\n",
    "```python\n",
    "\n",
    "np.arange(a) # Array contains all integers from zero up to and excluding a.\n",
    "np.arange(a, b) # Array contains all numbers from a (inclusive) to b (exclusive).\n",
    "np.arange(a, b, c) # Array contains all numbers from a (inclusive) to b (exclusive) incrementing by c.\n",
    "\n",
    "```\n",
    "\n",
    "**Note:** for the second two, the arguments don't have to be integers. This is different from Python `range`s.\n",
    "\n",
    "Let's see a few examples."
   ]
  },
  {
   "cell_type": "code",
   "execution_count": null,
   "id": "6debec17-0033-4d88-a552-deb2a427ba98",
   "metadata": {},
   "outputs": [],
   "source": [
    "# Your code here\n"
   ]
  },
  {
   "cell_type": "markdown",
   "id": "00751e0c-f4dc-4ed5-bf52-ae8cedbb654a",
   "metadata": {},
   "source": [
    "We can also load arrays from files using two functions:\n",
    "* To load an array from a NumPy binary file (`*.npy`), we use [`np.load`](https://numpy.org/doc/stable/reference/generated/numpy.load.html).\n",
    "* To load an array from a text-based file, such as `*.txt` or `*.csv` file, we use [`np.loadtxt`](https://numpy.org/doc/stable/reference/generated/numpy.loadtxt.html).\n",
    "\n",
    "For example, we can load text from the provided `sample_array.csv` file:"
   ]
  },
  {
   "cell_type": "code",
   "execution_count": null,
   "id": "0f67042c-a564-4b3c-909a-e822ebccdec4",
   "metadata": {},
   "outputs": [],
   "source": [
    "sample_csv_path = \"../assets/csv/sample.csv\"\n",
    "# Your code here to read from the csv file\n"
   ]
  },
  {
   "cell_type": "markdown",
   "id": "3f1a6e49-e6cf-414e-b250-df4c5f089634",
   "metadata": {},
   "source": [
    "So, now we know how to create arrays and view **all** the elements in an array... but what about just viewing *some* of the elements???"
   ]
  },
  {
   "cell_type": "markdown",
   "id": "22d550fe-d951-4ac3-856b-1cbb62048252",
   "metadata": {},
   "source": [
    "### Array Indexing\n",
    "\n",
    "Remember that for lists and tuples, we have a very simple way to access elements using **slicing**. We would use the square brackets `[]` to access individual elements and subsets of elements. \n",
    "\n",
    "\n",
    "Good news! When working with arrays in NumPy, we can **index** arrays in *almost* the exact same way!\n",
    "\n",
    "To index NumPy arrays, we use square brackets `[]`. For **each axis** in the array, we can put either a single index or a range consisting of `start:end:increment`. To index along multiple axes, we can use multiple of these indices or slices **separated by commas**.\n",
    "\n",
    "Like with lists, each of the elements is optional. To index from the beginning of an axis up until `i`, simply use `:i`. If you want to index from `i` to the end, then write `i:`. If you want to go along the entire length of the array, skipping by `i`, write `::i`. Just like with lists. And negative indexing still works too!\n",
    "\n",
    "If you have multiple axes and you want to take all items along an axis, simply put `:`.\n",
    "\n",
    "*Advanced tip:* If you have many axes and you want to skip a bunch of axes in the middle, you can use `...` in the index.\n",
    "\n",
    "Let's see some examples:"
   ]
  },
  {
   "cell_type": "code",
   "execution_count": null,
   "id": "7414af1f-8fe4-4a32-ada5-a7e08dc955c5",
   "metadata": {},
   "outputs": [],
   "source": [
    "# Your code here for indexing in a 1D array\n",
    "\n"
   ]
  },
  {
   "cell_type": "code",
   "execution_count": null,
   "id": "557730c6-f8ea-4c22-9439-d950bd8a2baa",
   "metadata": {},
   "outputs": [],
   "source": [
    "# Your code here for indexing in a 2D array\n",
    "\n",
    "\n",
    "\n",
    "# Let's select the first row\n",
    "\n",
    "\n",
    "# Let's select the last column\n",
    "\n",
    "\n",
    "# Let's select the item in the bottom left corner\n"
   ]
  },
  {
   "cell_type": "markdown",
   "id": "f6af67b7-2cae-4ff5-92e3-b77170ecc5d9",
   "metadata": {},
   "source": [
    "Notice that you only need to write the indices up until the last axis where you're selecting. If you omit indices after a specific axis, all values along each subsequent axis are selected."
   ]
  },
  {
   "cell_type": "markdown",
   "id": "4771a7b2-ba63-44a8-90a2-60cedc443603",
   "metadata": {},
   "source": [
    "### Simple Assignments\n",
    "\n",
    "So, we now know how to get elements out of an array. But, how do we get elements into an array? For that, we perform **assignments**. To insert a value into a specific position in an array, we again use indexing!\n",
    "\n",
    "To assign a single value, we use syntax similar to list assignment:\n",
    "\n",
    "```python\n",
    "my_array[i, j] = my_value\n",
    "```\n",
    "\n",
    "We can also assign values to a specific region of the array (or sub-array) by indexing a region and assigning an array to those indices. Let's see some examples:"
   ]
  },
  {
   "cell_type": "code",
   "execution_count": null,
   "id": "d74e75b0-61aa-45e2-be3c-8bebea93d6eb",
   "metadata": {},
   "outputs": [],
   "source": [
    "# Your code here to perform assignment in a 3D array of ones\n",
    "\n"
   ]
  },
  {
   "cell_type": "markdown",
   "id": "6bfc7ca6-5160-4433-b0e7-2c3ff5e67093",
   "metadata": {},
   "source": [
    "Careful! The sizes need to match up! Except, we can actually assign all entries in a sub-array to a single value very easily! Here's how:"
   ]
  },
  {
   "cell_type": "code",
   "execution_count": null,
   "id": "bf16426f-c453-407d-be14-62b720d8764d",
   "metadata": {},
   "outputs": [],
   "source": [
    "# Your code here to assign the same value to a sub-array\n",
    "\n"
   ]
  },
  {
   "cell_type": "markdown",
   "id": "745ceecc-fb32-40fb-9036-88f860bbb303",
   "metadata": {},
   "source": [
    "## Basic Array Operations\n",
    "\n",
    "Now that we know how to *create* arrays and modify individual entries and sub-arrays through assignment, we can think about operations that we can perform with them.\n",
    "\n",
    "### Elementwise Arthimetic\n",
    "\n",
    "Some of the simplest operations we can perform between arrays are *mathematical operations*. These basic arithmetic operators perform **element-wise** computations:\n",
    "\n",
    "* `+` - addition of two arrays, element-wise.\n",
    "* `-` - subtraction of two arrays, element-wise.\n",
    "* `*` - **element-wise** multiplication of two arrays.\n",
    "* `/` - division of two arrays, element-wise.\n",
    "* `**` - **element-wise** exponentiation of arrays.\n",
    "* `%` - modulo of two arrays, element-wise.\n",
    "* `//` - integer division (floor division) of two arrays, element-wise.\n",
    "\n",
    "**Note:** Again, note that these operations are all **element-wise**. This is unlike certain other programming languages, where the element-wise operators have different symbols.\n",
    "\n",
    "To perform these operations, the arrays must have *compatible shapes*. Here are some of the rules of working with different array shapes:\n",
    "\n",
    "* The two arrays can have the *exact same shape*, in which case the operation works directly.\n",
    "* One of the operands can simply be a `float` or an `int`, in which case, the operation is performed with each element in the operand which is an array.\n",
    "* We can *broadcast* the shapes together. This process is described extensively in the [documentation](https://numpy.org/doc/stable/user/basics.broadcasting.html). Basically, one of the key ideas is making sure that, working from the **last** dimension to the first for each, the respective dimensions are either **equal** or **one of them is one**. We won't see too many examples of this, but I encourage you to look at the documentation.\n",
    "\n",
    "Let's do a few examples of basic array operations:"
   ]
  },
  {
   "cell_type": "code",
   "execution_count": null,
   "id": "6a467f5d-5df7-48c4-8afe-35eb071f0c52",
   "metadata": {},
   "outputs": [],
   "source": [
    "arr1 = np.array([\n",
    "    [3, 5, 4],\n",
    "    [8, 5, 2],\n",
    "    [8, 3, 9]\n",
    "])\n",
    "\n",
    "arr2 = np.array([\n",
    "    [6, 3, 2],\n",
    "    [6, 6, 1],\n",
    "    [4, 9, 2]\n",
    "])\n",
    "\n",
    "print(f\"Array 1:\\n {arr1}\\n\")\n",
    "print(f\"Array 2:\\n {arr2}\\n\")\n",
    "\n",
    "# Your code here for basic array arithmetic.\n",
    "# Let's add these arrays together\n",
    "print(\"Array 1 + Array 2 = \")\n",
    "\n",
    "print()\n",
    "\n",
    "# Now, let's divide arr1 by arr2\n",
    "print(\"Array 1 / Array 2 = \")\n",
    "\n",
    "print()\n",
    "\n",
    "# We can also work with individual integers\n",
    "print(\"Array 1 ** 2 = \")\n"
   ]
  },
  {
   "cell_type": "markdown",
   "id": "c6ee3b78-4c3b-4f64-9eb4-503cfee9a079",
   "metadata": {},
   "source": [
    "**Warning:** Be careful when dividing by arrays that may contain zero! This will produce potentially annoying results, which contain invalid values, such as `NaN` (not a number) or `inf` (infinity):"
   ]
  },
  {
   "cell_type": "code",
   "execution_count": null,
   "id": "14fb0808-6280-47af-b931-1c3fc9b89446",
   "metadata": {},
   "outputs": [],
   "source": [
    "arr3 = np.array([\n",
    "    [6, 5, 0],\n",
    "    [2, 9, 4],\n",
    "    [4, 5, 1]\n",
    "])\n",
    "\n",
    "arr4 = np.array([\n",
    "    [4, 2, 0],\n",
    "    [0, 5, 2],\n",
    "    [8, 0, 3]\n",
    "])\n",
    "\n",
    "# Your code here to divide by zero\n"
   ]
  },
  {
   "cell_type": "markdown",
   "id": "57f4df41-82a5-4eeb-a2a0-1195e74362ca",
   "metadata": {},
   "source": [
    "Notice that NumPy still gives you a result, but it lets you know that it's not happy with you."
   ]
  },
  {
   "cell_type": "markdown",
   "id": "2efedee5-4744-44a2-801b-66e6ea08700c",
   "metadata": {},
   "source": [
    "### Matrix Multiplication\n",
    "\n",
    "If you've taken linear algebra before, I know what you're thinking... You're thinking \"But, wait! If you're telling me that multiplication is element-wise, how can I do matrix multiplication????\".\n",
    "\n",
    "Recall that **matrix multiplication** is a particular operation that involves multiplying elements in rows of the first matrix by the elements in the columns of the second matrix. In NumPy, there's a *separate operator* that we can use to distinguish between elementwise multiplication and matrix multiplication. To perform matrix multiplication, we use the `@` operator between two arrays. Let's see an example:"
   ]
  },
  {
   "cell_type": "code",
   "execution_count": null,
   "id": "8333aaf3-afa5-43c4-a5af-fa86fbdbd442",
   "metadata": {},
   "outputs": [],
   "source": [
    "mat1 = np.array([\n",
    "    [3, 2],\n",
    "    [4, 6],\n",
    "    [7, 0]\n",
    "])\n",
    "\n",
    "mat2 = np.array([\n",
    "    [9, 1, 5],\n",
    "    [6, 2, 3],\n",
    "])\n",
    "\n",
    "# Your code here to perform matrix multiplication\n",
    "print(\"My matrix product is:\")\n"
   ]
  },
  {
   "cell_type": "markdown",
   "id": "f450df5e-3fcd-47a6-a4b9-1e8bb03433a1",
   "metadata": {},
   "source": [
    "**Note:** The size requirements for matrix multiplication are different from element-wise multiplication. Instead of having the same size, the only restriction is that the number of *rows* in the *first* matrix **must** be the **same** as the number of *columns* in the *second* matrix."
   ]
  },
  {
   "cell_type": "markdown",
   "id": "2cf11e1e-1c98-4386-9f66-b5e9b3972038",
   "metadata": {},
   "source": [
    "## Advanced Array Operations\n",
    "\n",
    "At this point, you hopefully think that NumPy arrays are the coolest thing since sliced bread! We can now add lots of numbers together with a single addition, and we can do things like matrix multiplication without having to remember the algorithm. But wait, there's more!\n",
    "\n",
    "### Arrays as Objects\n",
    "\n",
    "Remember I said that arrays are objects? We've already looked at one of the array attributes, `shape`. We haven't yet looked at any of the methods, though. In this section, we're going to explore some of the array methods that allow us to learn more about the values in our arrays.\n",
    "\n",
    "**Note:** Many of the array methods are also available as functions in NumPy. The main difference is that if you call them as a function using `np.func_name`, the first argument must be an array.\n",
    "\n",
    "Here are some common methods that can be used to compute measurements from arrays:\n",
    "* [`ndarray.sum`](https://numpy.org/doc/stable/reference/generated/numpy.ndarray.sum.html) - Compute the sum of entries.\n",
    "* [`ndarray.prod`](https://numpy.org/doc/stable/reference/generated/numpy.ndarray.prod.html) - Compute the product of entries.\n",
    "* [`ndarray.min`](https://numpy.org/doc/stable/reference/generated/numpy.ndarray.min.html) - Find the minimum value in the array.\n",
    "* [`ndarray.max`](https://numpy.org/doc/stable/reference/generated/numpy.ndarray.max.html) - Find the maximum value in the array.\n",
    "\n",
    "If we check the documentation for any one of these, we see that there's no much exciting. But, there's a link to full documentation on the `np.func_name` documentation page.\n",
    "\n",
    "Let's see some examples of using these methods:"
   ]
  },
  {
   "cell_type": "code",
   "execution_count": null,
   "id": "7e405e56-62f0-4368-9119-729fe872f51b",
   "metadata": {},
   "outputs": [],
   "source": [
    "my_arr = np.array([\n",
    "    [4, 2, 5],\n",
    "    [7, 3, 2],\n",
    "    [8, 9, 4],\n",
    "    [2, 0, 3]\n",
    "])\n",
    "\n",
    "# Your code here to compute some basic results\n",
    "# Let's compute the sum of the entries\n",
    "\n",
    "\n",
    "# And now the product\n",
    "\n",
    "\n",
    "# And the minimum\n",
    "\n",
    "\n",
    "# And the maximum\n"
   ]
  },
  {
   "cell_type": "markdown",
   "id": "39610333-dc65-49f7-9da4-f636a243decc",
   "metadata": {},
   "source": [
    "There's something fun about these methods too! We don't have to apply them to all the elements. We can use the `axis` keyword argument to specify a specific axis (or axes) along which to compute these measurements. Instead of a single value, we can then wind up with arrays containing the measurements.\n",
    "\n",
    "Let's apply these to our array from before:"
   ]
  },
  {
   "cell_type": "code",
   "execution_count": null,
   "id": "48f6ed89-0a84-4da8-8a71-13b7e027ff2d",
   "metadata": {},
   "outputs": [],
   "source": [
    "# Your code here to perform operations along axes\n",
    "\n",
    "# Let's take the sum along the rows\n",
    "\n",
    "\n",
    "# And the sum along columns\n",
    "\n",
    "\n",
    "# And now the maximum within each column\n"
   ]
  },
  {
   "cell_type": "markdown",
   "id": "2eac5aa1-0c2e-4bfe-9dc8-3a79ced37e87",
   "metadata": {},
   "source": [
    "It can get a bit confusing to know which axis to put. The axis should be the one along which the operation will actually be performed. So, for the case where we're computing the sum, we need to think about which numbers we want added which each other. If we're adding along a row, then that means we want to add numbers across columns. The columns are defined by axis `1`.\n",
    "\n",
    "There are also methods to perform more elaborate operations..."
   ]
  },
  {
   "cell_type": "markdown",
   "id": "81cf6b75-f7fd-4af0-97f8-8ceb4eb4cf42",
   "metadata": {},
   "source": [
    "### Statistics on Arrays\n",
    "\n",
    "To understand the data stored in an array, we can compute some basic statistics. NumPy provides very easy methods for computing the mean and variance of the elements in an array.\n",
    "\n",
    "Here are some basic functions that all follow a similar pattern:\n",
    "* [`ndarray.mean`](https://numpy.org/doc/stable/reference/generated/numpy.ndarray.std.html) - Compute the average.\n",
    "* [`ndarray.var`](https://numpy.org/doc/stable/reference/generated/numpy.ndarray.var.html) - Compute the variance.\n",
    "* [`ndarray.std`](https://numpy.org/doc/stable/reference/generated/numpy.ndarray.mean.html) - Compute the standard deviation.\n",
    "\n",
    "Let's see them in action:"
   ]
  },
  {
   "cell_type": "code",
   "execution_count": null,
   "id": "fe882e1a-11d3-4e1a-ae9e-d6aebe9602f7",
   "metadata": {},
   "outputs": [],
   "source": [
    "my_arr = np.array([\n",
    "    [4, 2, 5],\n",
    "    [7, 3, 2],\n",
    "    [8, 9, 4],\n",
    "    [2, 0, 3]\n",
    "])\n",
    "\n",
    "# Your code here to compute statistics on arrays\n",
    "# Let's compute the mean\n",
    "\n",
    "\n",
    "# Let's now comptue the mean along each row\n",
    "\n",
    "\n",
    "# Let's compute the standard deviation along each column\n"
   ]
  },
  {
   "cell_type": "markdown",
   "id": "ac190a21-a314-4049-93f9-a9ea494e3aa9",
   "metadata": {},
   "source": [
    "There are other matrix and vector operations that we can perform, such as dot products. We won't see those here, but I encourage you to read up on them in the [documentation](https://numpy.org/doc/stable/reference/routines.linalg.html).\n",
    "\n",
    "We can also perform element-wise trigonometric functions, such as `cos` and `sin`. These exist as functions in the NumPy package. When we import NumPy, we can simply call these functions using the dot notation."
   ]
  },
  {
   "attachments": {},
   "cell_type": "markdown",
   "id": "372b74fa-fb07-46f8-804c-64b50277ac6d",
   "metadata": {},
   "source": [
    "### Reshaping and Combining Arrays\n",
    "\n",
    "Remember when we were talking about basic arithmetic operations, I said that arrays have to have the right shape... Well, what can we do if they don't?\n",
    "\n",
    "For example, when we use `np.arange` to generate a sequence of numbers, we don't have any way of specifying an array shape. We're stuck with a 1D array!\n",
    "\n",
    "Introducing the `reshape` method. We can take an array and reshape it to match desired dimensions. As argument, we pass the desired dimensions.\n",
    "\n",
    "**Note:** the dimensions must be compatible with the number of elements in the array. If you know all the dimensions except one, you can set a dimension size as `-1` and Python will infer that dimension.\n",
    "\n",
    "Let's see some examples:"
   ]
  },
  {
   "cell_type": "code",
   "execution_count": null,
   "id": "7fb067ee-ba17-498b-a820-2059072ef4e7",
   "metadata": {},
   "outputs": [],
   "source": [
    "# Your code here\n",
    "\n",
    "# Let's make a sequence of 30 integers.\n",
    "\n",
    "\n",
    "# Now, let's rearrange the array to have 5 rows.\n",
    "\n",
    "\n",
    "# By setting the second number as -1, we tell NumPy to figure out the missing dimension"
   ]
  },
  {
   "cell_type": "markdown",
   "id": "4976e831-3b85-464d-9f5f-27da5c4e88dd",
   "metadata": {},
   "source": [
    "And we can even reshape to higher dimensions!"
   ]
  },
  {
   "cell_type": "code",
   "execution_count": null,
   "id": "2247341f-4757-4bc4-8541-3ef7329c7435",
   "metadata": {},
   "outputs": [],
   "source": [
    "# Your code here to make a 3D array using arange\n",
    "\n"
   ]
  },
  {
   "cell_type": "markdown",
   "id": "5945a794-bdec-4a62-a613-0ac122edd540",
   "metadata": {},
   "source": [
    "That's great for reshaping a single array. We can also combine multiple arrays together using the following NumPy functions:\n",
    "\n",
    "* [`np.concatenate`](https://numpy.org/doc/stable/reference/generated/numpy.concatenate.html) - Combine arrays along an **existing** axis.\n",
    "* [`np.stack`](https://numpy.org/doc/stable/reference/generated/numpy.stack.html) - Combine arrays along a **new** axis.\n",
    "* [`np.hstack`](https://numpy.org/doc/stable/reference/generated/numpy.hstack.html) - Combine arrays horizontally (along rows).\n",
    "* [`np.vstack`](https://numpy.org/doc/stable/reference/generated/numpy.vstack.html) - Combine arrays vertically (along columns).\n",
    "\n",
    "Let's see some examples:"
   ]
  },
  {
   "cell_type": "code",
   "execution_count": null,
   "id": "6ca80d18-9adf-44db-ae76-b73f66d6efe0",
   "metadata": {},
   "outputs": [],
   "source": [
    "my_first_array = np.arange(12).reshape(3, 4)\n",
    "my_second_array = np.arange(24, 0, -2).reshape(3, 4)\n",
    "\n",
    "# Your code here to combine arrays\n",
    "\n",
    "# Let's concatenate the two arrays\n",
    "cat_array = ...\n",
    "\n",
    "print(f\"Concatenated array has shape {cat_array.shape}.\")\n",
    "\n",
    "# Let's stack the two arrays\n",
    "stacked_array = ...\n",
    "print(f\"Stacked array has shape {stacked_array.shape}.\")\n",
    "\n",
    "# Let's horizontally stack the two arrays\n",
    "hstacked_array = ...\n",
    "print(f\"Horizontally stacked array has shape {hstacked_array.shape}.\")\n",
    "\n",
    "# And now let's vertically stack the two arrays\n",
    "vstacked_array = ...\n",
    "print(f\"Vertically stacked array has shape {vstacked_array.shape}.\")"
   ]
  },
  {
   "cell_type": "markdown",
   "id": "11ded154-b743-4e47-b61f-990f53168fc7",
   "metadata": {},
   "source": [
    "There are **many** other useful functions in the NumPy package, but there are *way too many* to cover in this workshop... So, how can you get more info about NumPy?"
   ]
  },
  {
   "cell_type": "markdown",
   "id": "f3072fee-5751-4278-a858-2d6483b747c1",
   "metadata": {},
   "source": [
    "### Exploring the Documentation\n",
    "\n",
    "The answer: the documentation!\n",
    "\n",
    "NumPy is a **huge** library. So, it's impossible to know and remember all the functions, their arguments, and all the details about them.\n",
    "\n",
    "Instead, it's better to become familiar with the **documentation**. It can be found on the NumPy website, at https://numpy.org/doc/stable/index.html. I've included links to the documentation along the way. Let's look at some of the pages for the functions we've discussed.\n",
    "\n",
    "The docs give detailed information about every class, function, constant and method available. There are instructions on how to use (and not use) everything. They provide hints and warnings, as well as a [\"User Guide\"](https://numpy.org/doc/stable/user/index.html).\n",
    "\n",
    "When in doubt, **check the documentation**. This should be your **first stop**. Unlike checking on Stack Overflow, the docs give you **official information** and **important guidance**. It's also important to remember that sometimes, just because code *works*, that doesn't mean the code is *right*. The documentation will help clear up any confusion."
   ]
  },
  {
   "cell_type": "markdown",
   "id": "d4ce9d14-2d0d-4bb7-ac82-3f34a1e9330f",
   "metadata": {},
   "source": [
    "## Module Summary\n",
    "\n",
    "We've made it to the end of our module on NumPy! Here are the highlights of what we've seen:\n",
    "\n",
    "* NumPy is a **package** that offers tools to easily represent **arrays**.\n",
    "* Unlike working with nested lists, arrays make it easy to perform **arithmetic operations** between arrays.\n",
    "* Arrays are **objects** that have *attributes*, like `shape` and *methods* like `sum` and `mean` that allow us to compute results.\n",
    "* We can easily **combine** arrays and **reshape** them as needed.\n",
    "* The **documentation** provides resources to learn more about all the features is NumPy.\n",
    "\n",
    "Congratulations! You're now ready to enter into the world of array programming! Let's now work on an exercise!"
   ]
  },
  {
   "cell_type": "markdown",
   "id": "a33f0b73-b46f-4168-9e5c-d582683f4feb",
   "metadata": {},
   "source": [
    "## Mini-Project: Part III\n",
    "\n",
    "We can now represent individual cells and extract amino acid properties. But, we want to look at properties in populations. I've provided you with peptide sequences containing 100 amino acids from 50 artificial individuals.\n",
    "\n",
    "1. At each location, determine the frequency of amino acids with a non-polar side chain.\n",
    "2. For each individual, determine the proportion of amino acids with acidic side chains."
   ]
  },
  {
   "cell_type": "code",
   "execution_count": null,
   "id": "152d4024-160b-4701-83e8-dae7ade29e10",
   "metadata": {},
   "outputs": [],
   "source": [
    "input_file = \"../assets/miniproj3/seqs/HUMAN_HEALTHY.fasta\"\n",
    "sequences = []\n",
    "\n",
    "with open(input_file, \"r\") as f:\n",
    "    lines = f.readlines()\n",
    "\n",
    "for line in lines:\n",
    "    if line.strip() == \"\" or line.startswith(\">\"):\n",
    "        continue\n",
    "    else:\n",
    "        sequences.append(line.strip())\n",
    "\n",
    "AMINO_ACID_PROPERTIES = {\n",
    "    \"NON_POLAR\": [\"F\", \"L\", \"I\", \"M\", \"V\", \"P\", \"A\", \"W\", \"G\"],\n",
    "    \"POLAR\": [\"S\", \"T\", \"Y\", \"Q\", \"N\", \"C\"],\n",
    "    \"ACIDIC\": [\"D\", \"E\"],\n",
    "    \"BASIC\": [\"H\", \"K\", \"R\"]\n",
    "}\n",
    "\n",
    "# Your code here\n"
   ]
  },
  {
   "cell_type": "markdown",
   "id": "6f46fa70-2690-4893-b150-b591cee3b06f",
   "metadata": {},
   "source": [
    "**Have extra time? Want extra practice?** I've included artificial examples for other species and other disease states in the same folder. Feel free to do similar experiments on those.\n",
    "\n",
    "**Want to see some cool code with Enums?** Check the `generate_proteins.py` file to see how I generated these artificial sequences."
   ]
  },
  {
   "cell_type": "markdown",
   "id": "d07117d9-444f-4e23-a4c3-e1b8410c389e",
   "metadata": {},
   "source": [
    "On a different note, we've genotyped a number of different yeast cells to determine the number of copies of 5000 SNPs we have. Unfortunately, our equipment could only produce 1D arrays. The data are located in `../assets/miniproj3/individuals.npy`. Perform the following operations to allow us to analyse the SNP data.\n",
    "\n",
    "1. Load the genotype data and reshape it so that the columns correspond to each of the 5000 SNPs.\n",
    "2. Compute the following:\n",
    "    * The mean frequency of each SNP across the population (both with and without the built-in method).\n",
    "    * The mean frequency of all SNPs in each individual.\n",
    "    * The maximum and minimum frequency of each SNP.\n",
    "    * The maximum and minimum SNP frequency within each individual.\n",
    "3. Then, extract the frequencies of every 10th SNP, and do the same.\n",
    "\n",
    "**Note:** These data are completely artificial (the genotyping was a nice problem scenario)."
   ]
  },
  {
   "cell_type": "code",
   "execution_count": null,
   "id": "b5fdc20c-6fd4-49fb-97cb-0e7f6e530897",
   "metadata": {},
   "outputs": [],
   "source": [
    "genotype_file_path = \"../assets/miniproj3/individuals.npy\"\n",
    "\n",
    "# Your code here"
   ]
  },
  {
   "cell_type": "markdown",
   "id": "4da504a9-45fe-45a2-90a9-3ea1dddb9042",
   "metadata": {},
   "source": [
    "# Module 4 - Visualising Data with Matplotlib\n",
    "\n",
    "We've now seen how to process data stored in arrays... but an array is just an array. We want to get more out of our data. Let's enter the world of **data visualisation**. In this module, we'll see the following topics:\n",
    "\n",
    "1. Creating Plots with Matplotlib\n",
    "    1. Introduction to pyplot\n",
    "    2. Creating basic plots\n",
    "    3. Customising plots: Labelling axes, titles, and more!\n",
    "    4. Advanced plots\n",
    "2. Advanced Plotting Techniques\n",
    "    1. Exporting plots as images\n",
    "    2. Working with figures and axes\n",
    "    3. Generating subplots\n",
    "3. Exploring the Matplotlib Documentation\n",
    "    1. API reference\n",
    "    2. Examples\n",
    "4. Exercise: Generating plots based on our sample data.\n",
    "\n",
    "\n",
    "Let's now dive into the material!"
   ]
  },
  {
   "cell_type": "markdown",
   "id": "1bdfb801-d4c3-48e8-bce3-6a52e332779d",
   "metadata": {},
   "source": [
    "## Creating Plots with Matplotlib\n",
    "\n",
    "One of the commonly-used packages for generating plots is [**Matplotlib**](https://matplotlib.org/). This package provides many tools for generating plots.\n",
    "\n",
    "### Introduction to `pyplot`\n",
    "\n",
    "To simplify the plotting experience, Matplotlib offers ther `pyplot` sub-package. `pyplot` makes it very easy for us to generate plots without having to worry about much of the nitty-gritty behind the scenes.\n",
    "\n",
    "To get started with `pyplot`, we have to import it. To simplify life, we almost always define the `plt` alias when we import. Let's write the import statement to get started:"
   ]
  },
  {
   "cell_type": "code",
   "execution_count": null,
   "id": "17925c38-aeea-44df-aa2a-9d1d083545e0",
   "metadata": {},
   "outputs": [],
   "source": [
    "# Your code here to import pyplot\n",
    "import matplotlib.pyplot as plt"
   ]
  },
  {
   "cell_type": "markdown",
   "id": "d53f2456-24d6-41e9-aa74-611aa81f6a86",
   "metadata": {},
   "source": [
    "If you got an error message saying `ModuleNotFound`, then you need to install Matplotlib. As per the [documentation](https://matplotlib.org/stable/), you can easily install Matplotlib using `pip` or using `conda` (if you're running Anaconda or Miniconda).\n",
    "\n",
    "Now that we have `pyplot` imported, we can get started!"
   ]
  },
  {
   "cell_type": "markdown",
   "id": "c36a0d75-dcdf-46a0-a27b-87f2ba579157",
   "metadata": {},
   "source": [
    "### Creating Simple Plots\n",
    "\n",
    "In this section, we'll cover a number of plots:\n",
    "* simple plots\n",
    "* bar plots\n",
    "* histograms\n",
    "* violin plots\n",
    "* polar plots\n",
    "\n",
    "All of these will follow a similar pattern:\n",
    "```python\n",
    "\n",
    "plt.plotting_function(data, ...)\n",
    "plt.show()\n",
    "\n",
    "```\n",
    "\n",
    "The specific `plotting_function` will change, but typically you need to call `plt.show()` after defining the plot so that you actually see the result. In a Jupyter notebook, this is typically not required, but I'm including it anyways just to make sure!"
   ]
  },
  {
   "cell_type": "markdown",
   "id": "5178fa1c-db25-42e2-8b7b-5b07dfaac406",
   "metadata": {},
   "source": [
    "#### Simple Plots\n",
    "\n",
    "What is the simplest thing we can plot? How about a function? To make a plot of `x` values and `y` values, we just use the [`plot`](https://matplotlib.org/stable/api/_as_gen/matplotlib.pyplot.plot.html) function:\n",
    "\n",
    "```python\n",
    "plt.plot(xs, ys)\n",
    "```\n",
    "\n",
    "Let's do an example! Let's take the angles from 0 to 360 degrees, skipping by increments of 20, and compute the cosine:"
   ]
  },
  {
   "cell_type": "code",
   "execution_count": null,
   "id": "2c64076c-502c-456f-8dfc-97568e3dd850",
   "metadata": {},
   "outputs": [],
   "source": [
    "# Your code here to plot the function\n",
    "\n"
   ]
  },
  {
   "cell_type": "markdown",
   "id": "78fd07d3-cfa4-4251-addd-1cb51330ddeb",
   "metadata": {},
   "source": [
    "This looks not bad, eh? It definitely looks like a cosine, but it looks a bit jagged. Let's say we don't want to have a connected line, and we only want to show the points. And what's with this dull blue?\n",
    "\n",
    "Good news! Using the optional format argument, we can customise the line style!\n",
    "\n",
    "The format parameter consists of a **single string** combining:\n",
    "* the colour (as a single letter abbreviation)\n",
    "* the point markers (a variety of shapes are available)\n",
    "* the line style (solid, dots, dashes)\n",
    "\n",
    "The formatting of this string is described in detail [here](https://matplotlib.org/stable/api/_as_gen/matplotlib.pyplot.plot.html).\n",
    "\n",
    "Let's make our cosine function appear in magenta (`m`) using stars at each point (`*`) with a dotted line in between (`:`):"
   ]
  },
  {
   "cell_type": "code",
   "execution_count": null,
   "id": "5c6b326e-6527-438d-9d65-64bc3aa301aa",
   "metadata": {},
   "outputs": [],
   "source": [
    "# Your code here to plot with a different format\n"
   ]
  },
  {
   "cell_type": "markdown",
   "id": "f66b5605-87f5-4fcd-b1a7-01186ef7c913",
   "metadata": {},
   "source": [
    "Now, isn't that a more exciting plot?"
   ]
  },
  {
   "cell_type": "markdown",
   "id": "0e799f11-658f-44a3-8176-03f7286eb9bf",
   "metadata": {},
   "source": [
    "You may be wondering how to plot multiple functions together. For example, let's say we want to plot both the cosine and the sine. Well, it's quite easy. We can call `plot` as many times as we need **before calling `plt.show()`**. After we call `plt.show()`, the plot gets cleared."
   ]
  },
  {
   "cell_type": "code",
   "execution_count": null,
   "id": "b29d7b68-5c1b-4694-998b-d281b28df96d",
   "metadata": {},
   "outputs": [],
   "source": [
    "# Your code here to plot the functions for sin and cos\n"
   ]
  },
  {
   "cell_type": "markdown",
   "id": "a3f37c0e-cc7b-4cf1-8c11-cfa7a63c48b3",
   "metadata": {},
   "source": [
    "For some functions, we can also do this plotting all in one step:"
   ]
  },
  {
   "cell_type": "code",
   "execution_count": null,
   "id": "91d69386-c24c-4dbc-82b4-f05de59978b4",
   "metadata": {},
   "outputs": [],
   "source": [
    "# Your code here to plot the functions for sin and cos\n"
   ]
  },
  {
   "cell_type": "markdown",
   "id": "ee70a17e-e68e-4ecc-8127-3fed9acce9ca",
   "metadata": {},
   "source": [
    "We'll see later how to add a legend to this type of plot."
   ]
  },
  {
   "cell_type": "markdown",
   "id": "c6b54b5b-2f61-4c29-b568-9d0b1baca40c",
   "metadata": {},
   "source": [
    "#### Bar Plots\n",
    "\n",
    "We can also generate bar plots, where each plot has a height proportional to a specified value. Let's say we are looking at the number of people attending a course online versus in-person.\n",
    "\n",
    "We can use the [`plt.bar`](https://matplotlib.org/stable/api/_as_gen/matplotlib.pyplot.bar.html) to produce bar plots:\n",
    "\n",
    "```python\n",
    "plt.bar(horiz_categories, heights)\n",
    "```\n",
    "\n",
    "For an official example, see: https://matplotlib.org/stable/gallery/lines_bars_and_markers/bar_colors.html\n",
    "\n",
    "Let's do a quick example:"
   ]
  },
  {
   "cell_type": "code",
   "execution_count": null,
   "id": "cdf13af9-a324-4f0b-9251-8130f6bbc9a6",
   "metadata": {},
   "outputs": [],
   "source": [
    "# Your code here for an attendance example\n",
    "\n"
   ]
  },
  {
   "cell_type": "markdown",
   "id": "b3936823-43b8-46c0-8f87-4b577e9110cd",
   "metadata": {},
   "source": [
    "Using other arguments for the `bar` function, it's possible to customise the bars to change their widths, colours, alignment, and more! We can even include error bars using the `xerr, yerr` parameters! Make sure to check out the complete documentation to see more parameters."
   ]
  },
  {
   "cell_type": "markdown",
   "id": "a31d3773-ac34-48c0-9092-025c67d0456d",
   "metadata": {},
   "source": [
    "#### Histograms\n",
    "\n",
    "You might be thinking, \"well, that bar chart looks fun, but it'll be a hassle to make a histogram using all those bars!\"\n",
    "\n",
    "Surprise! Matplotlib includes a [`hist` function](https://matplotlib.org/stable/api/_as_gen/matplotlib.pyplot.hist.html) specifically for computing histograms. All you need to do is supply one or more **flat** arrays (only one dimension) and it will do the rest. You can optionally specify the number of bins or their boundaries (using the `bins` parameter), and even indicate that the vertical axis should have a log scale (using the `log` parameter).\n",
    "\n",
    "Here's the syntax:\n",
    "```python\n",
    "plt.hist(my_data)\n",
    "```\n",
    "\n",
    "Let's see a quick example:"
   ]
  },
  {
   "cell_type": "code",
   "execution_count": null,
   "id": "266a4293-c195-42c8-be6b-1f6ab4f723f8",
   "metadata": {},
   "outputs": [],
   "source": [
    "data_1 = np.random.default_rng().exponential(size=10000)\n",
    "\n",
    "# Your code here for a simple histogram\n"
   ]
  },
  {
   "cell_type": "markdown",
   "id": "1e22ce7f-6e5f-4c63-8a94-ab3d7f25798b",
   "metadata": {},
   "source": [
    "#### Violin Plots\n",
    "\n",
    "Another way of representing this type of frequency data is using a *violin plot*. Matplotlib can generate violin plots in a similar way, using the [`violinplot` function](https://matplotlib.org/stable/api/_as_gen/matplotlib.pyplot.violinplot.html). The syntax is:\n",
    "\n",
    "```python\n",
    "plt.violinplot(data)\n",
    "```\n",
    "\n",
    "The function can easily be used for multiple datasets.\n",
    "\n",
    "Let's look at an example:"
   ]
  },
  {
   "cell_type": "code",
   "execution_count": null,
   "id": "b2b4af86-d67c-4207-b4fd-8df21ee4a5df",
   "metadata": {},
   "outputs": [],
   "source": [
    "data_1 = np.random.default_rng().beta(5, 10, size=10000)\n",
    "\n",
    "# Your code here to generate a violin plot\n"
   ]
  },
  {
   "cell_type": "markdown",
   "id": "a90ce8de-61a1-4855-bc80-aca3734585db",
   "metadata": {},
   "source": [
    "#### Polar Plots\n",
    "\n",
    "Matplotlib can even generate plots on polar axes using the [`plt.polar` function](https://matplotlib.org/stable/api/_as_gen/matplotlib.pyplot.polar.html). The syntax, per the documentation, is:\n",
    "\n",
    "```python\n",
    "plt.polar(theta, r)\n",
    "```\n",
    "\n",
    "So, let's say we want to create a circle with a radius $r = \\sin\\theta$:"
   ]
  },
  {
   "cell_type": "code",
   "execution_count": null,
   "id": "58b6facc-36fe-4d80-bf94-3af40b1d7eff",
   "metadata": {},
   "outputs": [],
   "source": [
    "# Your code here to create our polar plot\n"
   ]
  },
  {
   "cell_type": "markdown",
   "id": "8fd95288-ef7c-4515-9138-9869a65848ff",
   "metadata": {},
   "source": [
    "For each of these plots, there are deeper descriptions of everything in the Matplotlib documentation. There are also other types of plots that I haven't show, such as pie charts."
   ]
  },
  {
   "cell_type": "markdown",
   "id": "78003886-64cf-46a6-8d62-321071121c66",
   "metadata": {},
   "source": [
    "### Customising Plots\n",
    "\n",
    "The plots that we've made so far show the data... and not much else. We can add more information to our plots:\n",
    "* Axis labels\n",
    "* Titles\n",
    "* Legends\n",
    "\n",
    "and more! We'll just discuss these three, but there are plenty more described in the Matplotlib documentation."
   ]
  },
  {
   "cell_type": "markdown",
   "id": "3850a5e3-a704-4abd-9687-0c8998ebbb8f",
   "metadata": {},
   "source": [
    "#### Adding Axis Labels\n",
    "\n",
    "To add axis labels, we just simply call the `pyplot` functions [`xlabel`](https://matplotlib.org/stable/api/_as_gen/matplotlib.pyplot.xlabel.html) and [`ylabel`](https://matplotlib.org/stable/api/_as_gen/matplotlib.pyplot.ylabel.html), like so:\n",
    "\n",
    "```python\n",
    "\n",
    "# Set the x-axis label\n",
    "plt.xlabel(\"My x axis\")\n",
    "\n",
    "# Set the y-axis label\n",
    "plt.ylabel(\"My y axis\")\n",
    "```\n",
    "\n",
    "Let's see an example using our bar plot from before:"
   ]
  },
  {
   "cell_type": "code",
   "execution_count": null,
   "id": "29f73010-ce7d-43a6-92ba-7a02096094f0",
   "metadata": {},
   "outputs": [],
   "source": [
    "participation_options = [\"Online\", \"In-person\", \"Hybrid\"]\n",
    "participants = [120, 30, 60]\n",
    "\n",
    "plt.bar(participation_options, participants)\n",
    "\n",
    "# Your code here to add axis labels\n",
    "\n",
    "\n",
    "plt.show()"
   ]
  },
  {
   "cell_type": "markdown",
   "id": "7cc1bf27-94fa-4945-bd67-a42bd9883229",
   "metadata": {},
   "source": [
    "There are other options available for the labels, which can be found in the documentation."
   ]
  },
  {
   "cell_type": "markdown",
   "id": "6fac89dd-331d-474a-b04f-6cbe4dc86258",
   "metadata": {},
   "source": [
    "#### Plot Titles\n",
    "\n",
    "To add a title to your plot, you simply call the [`plt.title`](https://matplotlib.org/stable/api/_as_gen/matplotlib.pyplot.title.html) function, with the desired title as argument.\n",
    "\n",
    "Let's add a title to our attendance plot:"
   ]
  },
  {
   "cell_type": "code",
   "execution_count": null,
   "id": "c87de114-acf8-460d-8114-68dc90232af7",
   "metadata": {},
   "outputs": [],
   "source": [
    "participation_options = [\"Online\", \"In-person\", \"Hybrid\"]\n",
    "participants = [120, 30, 60]\n",
    "\n",
    "plt.bar(participation_options, participants)\n",
    "\n",
    "plt.xlabel(\"Attendance Options\")\n",
    "plt.ylabel(\"Registered Attendees\")\n",
    "\n",
    "# Your code here to add the plot title\n",
    "\n",
    "\n",
    "\n",
    "plt.show()"
   ]
  },
  {
   "cell_type": "markdown",
   "id": "f78c188f-05f7-4f14-a6ab-0fce86527782",
   "metadata": {},
   "source": [
    "Now, this looks like a more respectable plot!"
   ]
  },
  {
   "cell_type": "markdown",
   "id": "c6cb6eab-44f8-480c-9497-5ebbe6daa926",
   "metadata": {},
   "source": [
    "#### Plot Legends\n",
    "\n",
    "And now we're back to our example from before with multiple plots! We want to let everyone know what each curve represents. To do this, we can add a legend using the [`plt.legend`](https://matplotlib.org/stable/api/_as_gen/matplotlib.pyplot.legend.html) function.\n",
    "\n",
    "When adding a legend, we need to supply a set of *labels* that will be associated with each plot. We can do this in two ways:\n",
    "* Using the `label` keyword argument in the `plot` function.\n",
    "* Passing a list of labels to the `legend` function.\n",
    "\n",
    "We can also specify other parameters for the legend, such as the *location* (`loc`), the number of columns (`ncols`), the font size (`fontsize`) and more! See the documentation for all the details.\n",
    "\n",
    "Let's now use this function to make a legend for our sine and cosine graphs:"
   ]
  },
  {
   "cell_type": "code",
   "execution_count": null,
   "id": "be92d5a9-7d6a-4a5b-9934-af4670ab195d",
   "metadata": {},
   "outputs": [],
   "source": [
    "xs = np.arange(0, 360, 20)\n",
    "cos_ys = np.cos(np.radians(xs))\n",
    "sin_ys = np.sin(np.radians(xs))\n",
    "\n",
    "plt.xlabel\n",
    "\n",
    "# Generate the plot - Your code here to add the labels\n",
    "plt.plot(xs, cos_ys)\n",
    "plt.plot(xs, sin_ys)\n",
    "\n",
    "# Your code here to create the legend\n",
    "plt.legend()\n",
    "\n",
    "plt.show()"
   ]
  },
  {
   "cell_type": "code",
   "execution_count": null,
   "id": "78a27530-8b46-4bfb-bb0c-1fe4aac657c4",
   "metadata": {},
   "outputs": [],
   "source": [
    "# Your code here to plot the functions for sin and cos\n",
    "xs = np.arange(0, 360, 20)\n",
    "cos_ys = np.cos(np.radians(xs))\n",
    "sin_ys = np.sin(np.radians(xs))\n",
    "\n",
    "# Generate the plot\n",
    "plt.plot(xs, cos_ys, xs, sin_ys)\n",
    "\n",
    "# Your code here to create the legend\n",
    "\n",
    "\n",
    "plt.show()"
   ]
  },
  {
   "cell_type": "markdown",
   "id": "545ed220-170f-43df-83d7-baf8421bfe13",
   "metadata": {},
   "source": [
    "In this example, I've also shown a little trick. You can slip $\\LaTeX$ math symbols into any text that is shown in a plot. There's just a catch. The backslash `\\` is a special character. So, to be able to include `\\`-commands, like `\\cos` or `\\sin`, you must do one of two things:\n",
    "* *Escape* the slash, by typing it twice, as `\\\\`, to write `\\\\cos` or `\\\\sin`.\n",
    "* Indicate that you are passing in raw text, by putting `r` **before** the string, as in `r\"$\\sin$\"`.\n",
    "\n",
    "As usual, when typing in $\\LaTeX$, don't forget to put the dollar signs `$` around the math text!"
   ]
  },
  {
   "cell_type": "markdown",
   "id": "c84df7e2-6c11-42b4-9ceb-e899d997d86a",
   "metadata": {},
   "source": [
    "#### Other Customisations\n",
    "\n",
    "There are other customisations that you can do in Matplotlib, such as changing the axis ticks using [`plt.xticks`](https://matplotlib.org/stable/api/_as_gen/matplotlib.pyplot.xticks.html) and [`plt.yticks`](https://matplotlib.org/stable/api/_as_gen/matplotlib.pyplot.yticks.html) or chaging their appearance using [`plt.tick_params`](https://matplotlib.org/stable/api/_as_gen/matplotlib.pyplot.tick_params.html#matplotlib.pyplot.tick_params). You can also hide the bounding box using [`plt.box`](https://matplotlib.org/stable/api/_as_gen/matplotlib.pyplot.box.html) and alter the grid appearance using [`plt.grid`](https://matplotlib.org/stable/api/_as_gen/matplotlib.pyplot.grid.html).\n",
    "\n",
    "I've linked to the documentation in each case."
   ]
  },
  {
   "cell_type": "markdown",
   "id": "6f1ad975-7ff1-4bef-9803-556ada0b72d2",
   "metadata": {},
   "source": [
    "### Advanced Plots\n",
    "\n",
    "Now, let's look at some more advanced plots. In the plots we saw before, our data was quite simple. For each item, we wanted to only show one piece of information:\n",
    "\n",
    "* `plot` - For each `x`, show a `y`.\n",
    "* `bar` - For each category, show a height.\n",
    "* `hist` and `violinplot` - For each `x`, show a frequency.\n",
    "* `polar` - For each `theta` show an `r`.\n",
    "\n",
    "For these plots, we could change the colour of bars and markers, but we were only plotting two dimensions of data. Now, let's explore more complicated plots, which require additional axes. But first, let's talk a bit about colours."
   ]
  },
  {
   "cell_type": "markdown",
   "id": "b32d6392-a364-4344-98f4-31b5810f77cc",
   "metadata": {},
   "source": [
    "#### A Brief Intro to Colour Maps\n",
    "\n",
    "In scientific visualisation, we often use colours to provide additional insight into data. Colour maps allow us to assign specific colours to low and high values, with a spectrum in between. Matplotlib offers **many** different colour maps, which are described [here](https://matplotlib.org/stable/users/explain/colors/colormaps.html). This page also provides insight into different types of colour maps, as well as the strengths and weaknesses of each colour map.\n",
    "\n",
    "I **strongly recommend** that you take a glance at this page and decide which colour map to use. Different contexts require different uses of colour.\n",
    "\n",
    "Each colour map has a name, and in this section we'll see some places where we can pass these names into functions."
   ]
  },
  {
   "cell_type": "markdown",
   "id": "8cb5e147-b6d2-4eb6-b66e-0b00ddf96692",
   "metadata": {},
   "source": [
    "#### Scatter Plots\n",
    "\n",
    "At first glance, you might assume that a scatter plot is just like the simple plots that we generated with `plot`... Well, there's actually a bit more here. Using [`plt.scatter`](https://matplotlib.org/stable/api/_as_gen/matplotlib.pyplot.scatter.html), we place points in a 2D `xy`-plane, but we can also have the colour and marker size change in response to additional variables.\n",
    "\n",
    "For example, let's say we have locations of cells in space and we're looking at a certain gene. We can set the colour to correspond to up- or down-regulation of the gene in question.\n",
    "\n",
    "Or, we could be looking at spatial distribution of bacterial colonies, and have the size of the markers correspond to the number of bacteria at each location.\n",
    "\n",
    "To generate a scatter plot, we use the following syntax:\n",
    "```python\n",
    "\n",
    "plt.scatter(xs, ys, sizes, colours, ...)\n",
    "\n",
    "```\n",
    "\n",
    "To control the colour map used, we can set the `cmap` argument equal to the desired colour map name. **Be careful!** The colour map names are case-sensitive. There are several other options that can be configured as well.\n",
    "\n",
    "Let's see an example where we change the size and the colour of the points:"
   ]
  },
  {
   "cell_type": "code",
   "execution_count": null,
   "id": "72917d75-bcd8-48cb-9229-adda7a32bd49",
   "metadata": {},
   "outputs": [],
   "source": [
    "number_of_points = 500\n",
    "\n",
    "# Generate some 2D points, where the columns are (x, y)\n",
    "my_points = np.random.default_rng().normal(size=(number_of_points, 2))\n",
    "\n",
    "# Generate the size data\n",
    "my_sizes = np.random.default_rng().exponential(scale=10, size=number_of_points)\n",
    "\n",
    "# Generate the colour data\n",
    "my_colour_data = np.random.default_rng().chisquare(5, size=number_of_points)\n",
    "\n",
    "# Your code here to generate the scatter plot\n"
   ]
  },
  {
   "cell_type": "markdown",
   "id": "cc867cdc-34d0-4f7e-b60b-bdd6c3b59a27",
   "metadata": {},
   "source": [
    "So, this looks interesting, but how do we know what the colours mean? Well, we can add a colour bar using the [`plt.colorbar()`](https://matplotlib.org/stable/api/_as_gen/matplotlib.pyplot.colorbar.html) function. Let's modify our code:"
   ]
  },
  {
   "cell_type": "code",
   "execution_count": null,
   "id": "80f827ba-52fd-473b-8707-a056e4d6b426",
   "metadata": {},
   "outputs": [],
   "source": [
    "plt.scatter(xs, ys, my_sizes, my_colour_data)\n",
    "\n",
    "# Your code here to add the colour bar\n",
    "\n",
    "\n",
    "plt.show()"
   ]
  },
  {
   "cell_type": "markdown",
   "id": "4524b22f-1b57-47e8-a669-a6c3d318e9ac",
   "metadata": {},
   "source": [
    "That helps! Want to add a legend with the sizes? That's also possible: https://matplotlib.org/stable/gallery/lines_bars_and_markers/scatter_with_legend.html"
   ]
  },
  {
   "cell_type": "markdown",
   "id": "e6d46252-bbd2-4699-a9f4-fdb5dafe11bb",
   "metadata": {},
   "source": [
    "#### Image Plots\n",
    "\n",
    "We can also use Matplotlib to plot images. An image is really just an array of intensities. So, we can actually plot **any array** as an image.\n",
    "\n",
    "The function to use is [`plt.imshow`](https://matplotlib.org/stable/api/_as_gen/matplotlib.pyplot.imshow.html). The syntax is:\n",
    "\n",
    "```python\n",
    "plt.imshow(image_arr, ...)\n",
    "```\n",
    "\n",
    "Other parameters include the colour map to use, as well as image interpolation, aspect ratio and normalisation settings. These are explained in the documentation.\n",
    "\n",
    "Like before, we can show a colour bar using the `plt.colorbar()` function. This is especially useful if your image intensities contain important measurements and/or computed results.\n",
    "\n",
    "Let's see an example involving [\"Ant SEM.jpg\"](https://en.wikipedia.org/wiki/File:Ant_SEM.jpg), produced by the US Government (public domain)"
   ]
  },
  {
   "cell_type": "code",
   "execution_count": null,
   "id": "6641c064-1c75-4711-aab2-9e13c5c3336b",
   "metadata": {},
   "outputs": [],
   "source": [
    "import skimage\n",
    "\n",
    "# Load the image using scikit-image\n",
    "my_test_image = skimage.io.imread(\"../assets/matplotlib/Ant_SEM.jpg\", as_gray=True)\n",
    "\n",
    "# Your code here for the sample image\n"
   ]
  },
  {
   "attachments": {},
   "cell_type": "markdown",
   "id": "3bb29f8c-ddfc-461f-8f31-822eabf36c5e",
   "metadata": {},
   "source": [
    "This isn't exactly what we were expecting... Notice that the colour map makes a huge difference!\n",
    "\n",
    "We can get the original image by changing the colour map to `grey`.\n",
    "\n",
    "**Important note:** Notice the axes! In image coordinates, the `y`-axis decreases from the top corner!"
   ]
  },
  {
   "cell_type": "markdown",
   "id": "d5e844bb-3a18-4185-a9c5-6f63de4fb6fd",
   "metadata": {},
   "source": [
    "## Advanced Plotting Techniques\n",
    "\n",
    "In all the cases that we saw so far, we were able to generate exactly what we wanted, show it, and then move on. But, what if we want to save our figures? And what about showing figures with many sub-panels? These are also possible using Matplotlib!"
   ]
  },
  {
   "cell_type": "markdown",
   "id": "b32fa92e-3306-4d5a-a337-d8c692ebb356",
   "metadata": {},
   "source": [
    "### Saving Figures\n",
    "\n",
    "It's very easy to save figures in Matplotlib. We just need to call the `pyplot` function [`plt.savefig`](https://matplotlib.org/stable/api/_as_gen/matplotlib.pyplot.savefig.html). The only required parameter is the **filename**.\n",
    "\n",
    "```python\n",
    "plt.savefig(filename, ...)\n",
    "```\n",
    "\n",
    "That's it. Matplotlib figures out how to export based on the type of file. You can export plots as `PNG`, `TIFF`, `JPEG` (but please don't), among other raster formats. You can even export a plot as an `SVG` or a `PDF` to get a vector image. The default extension is `PNG` if you don't specify one.\n",
    "\n",
    "There are other options that can be set. If you're saving in a format that supports transparency, you can have a transparent background (`transparent`). You can also change the resolution using the `dpi` parameter.\n",
    "\n",
    "As an example, let's save our sine and cosine plot from before:"
   ]
  },
  {
   "cell_type": "code",
   "execution_count": null,
   "id": "946fc206-e9bf-4c5f-a3a3-0cec7c54b95d",
   "metadata": {},
   "outputs": [],
   "source": [
    "# Plot the functions for sin and cos\n",
    "xs = np.arange(0, 360, 20)\n",
    "cos_ys = np.cos(np.radians(xs))\n",
    "sin_ys = np.sin(np.radians(xs))\n",
    "\n",
    "# Generate the plot\n",
    "plt.plot(xs, cos_ys, xs, sin_ys)\n",
    "\n",
    "plt.legend([\"$\\\\cos\\\\theta$\", \"$\\\\sin\\\\theta$\"])\n",
    "\n",
    "# Your code here to save the figure\n",
    "\n",
    "plt.show()"
   ]
  },
  {
   "cell_type": "markdown",
   "id": "d0694a49-54cc-40e1-b1d2-5182fb84be07",
   "metadata": {},
   "source": [
    "**Very Important:** You **cannot** call `plt.savefig` after calling `plt.show()`. `plt.show` clears the current plot after showing it. If you call `plt.show` first, you will just end up saving a blank canvas.\n",
    "\n",
    "Again, **always** call `plt.savefig` **FIRST** if you're going to both save and show the plot."
   ]
  },
  {
   "attachments": {},
   "cell_type": "markdown",
   "id": "08b09286-0d51-4b2b-8769-4895ef6c9737",
   "metadata": {},
   "source": [
    "### Working with Figures and Axes\n",
    "\n",
    "Before, we worked directly with the `pyplot` interface, which allowed us to easily make plots. Well, behind the scenes, there are many different objects that are being used. The big important ones are `Figure`s and `Axes`. Just about everything we could do with `pyplot`, we can do with `Axes` and `Figure`s. I won't dwell too much on these, but it's important to know that they exist. They're also useful for some more advanced, experimental features, like **3D plotting**.\n",
    "\n",
    "To be able to plot in 3D using Matplotlib, we (sadly) can't use `pyplot` directly. Instead, we use `pyplot` to explicitly create new axes that have a 3D `projection`. Then, we can generate 3D plots, like 3D scatter plots, or even surface plots:"
   ]
  },
  {
   "cell_type": "code",
   "execution_count": null,
   "id": "aef7bf6e-fcfa-422a-8f13-5c2b80953776",
   "metadata": {},
   "outputs": [],
   "source": [
    "# Your code here to create 3D axes\n"
   ]
  },
  {
   "cell_type": "markdown",
   "id": "7f52df35-66b5-4519-9a3d-cd5b5367a440",
   "metadata": {},
   "source": [
    "### Subplots\n",
    "\n",
    "Now, let's say we want to have two plots side-by-side, or one above the other. There are a few  different ways that we can produce subplots.\n",
    "\n",
    "#### Using `plt.subplots`\n",
    "\n",
    "The most straightforward way is to use the [`plt.subplots`](https://matplotlib.org/stable/api/_as_gen/matplotlib.pyplot.subplots.html) function. As arguments, you specify the number of rows and columns you want, and you get back an array of `Axes` objects, one for each sub-plot. \n",
    "\n",
    "```python\n",
    "my_figure, my_axes = plt.subplots(nrows, ncols, ...)\n",
    "```\n",
    "\n",
    "This method is intuitive and you can easily share axes across plots. But, all plots must have the **same size**. So, if you have a 3 by 3 grid, you have 9 plots. That's it. No merging."
   ]
  },
  {
   "cell_type": "code",
   "execution_count": null,
   "id": "696f50d1-d6b4-4837-abc9-6edb0bf95c22",
   "metadata": {},
   "outputs": [],
   "source": [
    "# Your code here to make a 3 * 3 grid\n"
   ]
  },
  {
   "cell_type": "markdown",
   "id": "36e15346-05dc-42ec-bb89-a320e0d46807",
   "metadata": {},
   "source": [
    "If we want to create a more elaborate setup, we can use [`plt.subplot_mosaic`](https://matplotlib.org/stable/api/_as_gen/matplotlib.pyplot.subplot_mosaic.html), which takes in your desired layout using labels and produces the corresponding grid. We won't go into much depth on this one, but here's some example code:"
   ]
  },
  {
   "cell_type": "code",
   "execution_count": null,
   "id": "fdda5302-067d-449f-a500-82749b1dd2c1",
   "metadata": {},
   "outputs": [],
   "source": [
    "my_layout = [\n",
    "    [\"A\", \"A\", \"B\"],\n",
    "    [\"A\", \"A\", \"C\"],\n",
    "    [\"D\", \"E\", \"C\"]\n",
    "]\n",
    "my_fig, my_axes = plt.subplot_mosaic(my_layout, per_subplot_kw={\n",
    "    \"A\": {\"projection\": \"3d\"},\n",
    "    (\"B\", \"D\"): {\"projection\": \"polar\"}\n",
    "})\n",
    "\n",
    "plt.show()"
   ]
  },
  {
   "cell_type": "markdown",
   "id": "28f4ce70-37e3-4318-8dd8-4aaefe33fa09",
   "metadata": {},
   "source": [
    "As this example shows, we can also configure specific options for each sub-plot. Here, we have a 3D axis in the top corner, and two polar axes."
   ]
  },
  {
   "cell_type": "markdown",
   "id": "86af871e-e08f-4bcd-af2f-c16ac86b6bf4",
   "metadata": {},
   "source": [
    "Finally, if you really don't want to use `Axes` objects, you can just the [`plt.subplot`](https://matplotlib.org/stable/api/_as_gen/matplotlib.pyplot.subplot.html) function to get a region of a plot on which to produce a subplot. The parameters for this function are a bit... interesting.\n",
    "\n",
    "First, like with `subplots`, we need to specify the number of rows and columns. Then, we need to specify where the sub-plot of interest will lie. This argument is either a single integer, if the plot takes up one panel, a tuple containing a starting an ending index based on a grid numbering of the possible sub-plots if the plot is bigger. Here's an illustration:\n",
    "\n",
    "![sample grid](../assets/subplots/3x3grid.png)\n",
    "\n",
    "So, if we want a plot to extend vertically from the top left corner to the centre position, we would write:\n",
    "\n",
    "```python\n",
    "plt.subplot(3, 3, (1, 5))\n",
    "```\n",
    "\n",
    "This sub-plot then becomes active, and we can plot on it just like we would normally plot. Here's an example:"
   ]
  },
  {
   "cell_type": "code",
   "execution_count": null,
   "id": "f30fa559-c505-4862-8d76-015795df3030",
   "metadata": {},
   "outputs": [],
   "source": [
    "plt.subplot(3, 3, 3)\n",
    "plt.plot(np.arange(10))\n",
    "plt.subplot(3, 3, (7, 9))\n",
    "plt.plot(np.arange(20, 0, -1))\n",
    "plt.subplot(3, 3, (1, 5), projection=\"3d\")\n",
    "plt.subplot(3, 3, 6, projection=\"polar\")\n",
    "thetas = np.radians(np.arange(0, 365, 10))\n",
    "plt.polar(thetas, np.cos(thetas))"
   ]
  },
  {
   "cell_type": "markdown",
   "id": "d741c0a6-2ae3-4d75-a6f1-a8518634458c",
   "metadata": {},
   "source": [
    "And again, we can see that here, we can supply specific arguments to each sub-plot. So, we can have a mix of 3D and 2D plots, as well as polar plots."
   ]
  },
  {
   "cell_type": "markdown",
   "id": "839be448-d0f4-413a-a80d-c7c308a50f12",
   "metadata": {},
   "source": [
    "## Exploring the Matplotlib Documentation\n",
    "\n",
    "We've covered a lot on Matplotlib here, but we're really just scratching the surface. If you want to learn more about Matplotlib, reading the online documentation is a **must**.\n",
    "\n",
    "The documentation can be found online at https://matplotlib.org/stable/.\n",
    "\n",
    "This guide contains many different sections, including:\n",
    "* User guide: material explaining how to use Matplotlib, written in text form. These pages explain core concepts and how to use them.\n",
    "* Reference: the guide to every Python class and function used under the hood. These pages tell you the ins and outs of how to plot, and what will make Matplotlib happy and what will annoy it. If you're ever using a new function, make sure to check out its page.\n",
    "* Examples: Matplotlib is a very visual package. The website provides **tons** of examples. Just about every type of plot you can imagine has an example on this page. If you're ever in doubt about how to do something, chances are that there's an example that can help. Whether you're plotting heat maps or 3D vectors, or something in between, this page has you covered!"
   ]
  },
  {
   "cell_type": "markdown",
   "id": "1dd9adc6-ce3e-4242-82f1-3d77e9fcd3cf",
   "metadata": {},
   "source": [
    "## Module Summary\n",
    "\n",
    "With that, we reach the end of our module on Matplotlib. Here are the highlights:\n",
    "\n",
    "* **Matplotlib** is a package for plotting. It offers the **`pyplot` interface** to simplify the plotting process.\n",
    "* Various **types of plots** can be constructed, ranging from **simple** Cartesian plots to **more advanced** image plots and scatter plots.\n",
    "* These plots can be **customised** with **titles** and **axis labels** and some can also include **colour bars**.\n",
    "* Plots can either be **shown** immediately or **saved** to use later.\n",
    "* **Subplots** can be used to generate more complicated, elaborate figures.\n",
    "\n",
    "And now, let's get back to our mini-project and visualise some experimental data!"
   ]
  },
  {
   "cell_type": "markdown",
   "id": "cdc9719d-0b76-417c-8cce-30d55c6947e9",
   "metadata": {},
   "source": [
    "## Mini-Project: Part IV\n",
    "\n",
    "In **Part III**, we looked at non-polar side chains, and at acidic side chains. Well, let's produce some plots to visually show the difference in amino acid frequency.\n",
    "1. Construct plots to show the frequency of the amino acids of different properties. This plot may be a bar graph. If you want to check out the Matplotlib documentation, you can also try to make a pie chart to show the different properties.\n",
    "2. These plots give us a global picture, but how about a more local one? Generate a plot showing the frequency of amino acids with different properties at each position in the protein of interest.\n",
    "3. We have data from different species and disease states. Construct an array whose columns correspond to the frequency of acidic side chains at each position and the rows correspond to the different species. Use `imshow` to visualise these differences."
   ]
  },
  {
   "cell_type": "code",
   "execution_count": null,
   "id": "055f225f-350d-439f-bbaa-7362d86e406a",
   "metadata": {},
   "outputs": [],
   "source": [
    "# Your code here to visualise our cell data\n",
    "input_file = \"../assets/miniproj3/seqs/HUMAN_HEALTHY.fasta\"\n",
    "sequences = []\n",
    "\n",
    "with open(input_file, \"r\") as f:\n",
    "    lines = f.readlines()\n",
    "\n",
    "for line in lines:\n",
    "    if line.strip() == \"\" or line.startswith(\">\"):\n",
    "        continue\n",
    "    else:\n",
    "        sequences.append(line.strip())\n",
    "\n",
    "AMINO_ACID_PROPERTIES = {\n",
    "    \"NON_POLAR\": [\"F\", \"L\", \"I\", \"M\", \"V\", \"P\", \"A\", \"W\", \"G\"],\n",
    "    \"POLAR\": [\"S\", \"T\", \"Y\", \"Q\", \"N\", \"C\"],\n",
    "    \"ACIDIC\": [\"D\", \"E\"],\n",
    "    \"BASIC\": [\"H\", \"K\", \"R\"]\n",
    "}"
   ]
  },
  {
   "cell_type": "markdown",
   "id": "8d25622d-0515-4199-8ec5-3b8f818aa281",
   "metadata": {},
   "source": [
    "# Module 5 - The End... of the Beginning\n",
    "\n",
    "Congratulations! You've now reached the end of this **Intermediate Python** workshop. In this workshop, we've seen the following big ideas:\n",
    "\n",
    "* How to wrap repeated tasks into **functions** to allow easier reuse.\n",
    "* How to use **data classes** and **enumerations** to simplify data representation in code.\n",
    "* How to use **NumPy** to perform operations on arrays.\n",
    "* How to use **Matplotlib** to visualise data.\n",
    "\n",
    "By now, you've seen a fair amount of Python, and you're well on your way to writing successful code."
   ]
  },
  {
   "cell_type": "markdown",
   "id": "3a15f423-b855-4d80-86dc-693326d0b10e",
   "metadata": {},
   "source": [
    "## What to Learn Next... and How?\n",
    "\n",
    "We've seen a lot. But, the learning is never done! There are many more topics that you can explore. With the tools that you've now learned, it should be fairly easy for you to learn them. Here are some topics that are definitely worth looking into:\n",
    "\n",
    "### Using SciPy for Scientific Computing and Pandas for Data Processing\n",
    "\n",
    "We've seen NumPy and Matplotlib, so [SciPy](https://scipy.org/) and [Pandas](https://pandas.pydata.org/) are the next logical step. SciPy provides some more advanced scientific operations, like signal processing, spatial operations and mathematical optimisation. The docs are structured quite similarly to NumPy, and NumPy arrays are at the basis of just about all of SciPy, so it shouldn't be too hard to jump right in. Meanwhile, Pandas provides more advanced data manipulation for spreadsheet-like objects. This is quite helpful if your data are mostly 2D and you have more than just numeric data. Check out these packages' websites for tips to get started.\n",
    "\n",
    "### Image Processing with Scikit-Image\n",
    "\n",
    "Much life science work relies on processing images. [Scikit-image](https://scikit-image.org/) provides many functions for processing images and getting insight.\n",
    "\n",
    "### Basic Machine Learning with Scikit-Learn\n",
    "\n",
    "Want to get started with advanced statistics and machine learning in Python? Check out [Scikit-learn](https://scikit-learn.org/stable/). This package provides tools for clustering, dimensionality reduction and much more!"
   ]
  },
  {
   "cell_type": "markdown",
   "id": "410bf02a-7e77-4b8e-b8bc-f9f019a941c1",
   "metadata": {},
   "source": [
    "## How to get help... and how not to get help\n",
    "\n",
    "But, of course, in the software development process, you'll inevitably run into bugs. There will be times when your code won't work. It happens to everyone. So, how can you get help when you need it? Here are some important resources that may (or may not) be of use (adapted from my **Intro to Python** workshop found [here](https://github.com/bzrudski/micm_intro_to_python_summer_2024)):\n",
    "\n",
    "### Your Code Editor\n",
    "\n",
    "Think about it... when you're writing code, you're using a piece of software that is designed **specifically for one purpose**: to help you code. Yes! That's right! Your IDE can suggest code completions, tell when there are errors and even help you reformat your files and restructure your code.\n",
    "\n",
    "So, please, please, please, **DO NOT** write your code in a simple text editor that has no additional features. There are **many** IDEs out there that have Python support, including:\n",
    "\n",
    "* [PyCharm](https://www.jetbrains.com/pycharm/)\n",
    "* [Microsoft Visual Studio Code](https://code.visualstudio.com/)\n",
    "* [Spyder](https://www.spyder-ide.org/)\n",
    "* [Zed](https://zed.dev/)\n",
    "\n",
    "And these are all either completely free or have a free version with most of the functionality. And ***PLEASE*** don't use word processing software to write code. Use software that is made for coding!\n",
    "\n",
    "### Documentation\n",
    "\n",
    "Big projects have big, well-maintained documentation. Take a look at their guides for getting started. For example, [Pandas](https://pandas.pydata.org/) has a [10 minutes to pandas](https://pandas.pydata.org/docs/user_guide/10min.html) tutorial. Use these resources! If you want to learn how to use a function, **look it up** and read the paragraph about it. The docs will tell you how to use the arguments, as well as any quirks to expect. In some cases, the authors have even included references to the papers behind the function. This is especially true in image processing and other fields that rely heavily on algorithms. So, the documentation will tell you not only how to use the code, but also **where it comes from**. And make sure to check out the Official Python docs at https://docs.python.org/3/.\n",
    "\n",
    "### Books\n",
    "\n",
    "Books, books, books! There are tons! And tons of books out there! For example, there are a couple of general books that are free online:\n",
    "* *Think Python 2e* by Allen B. Downey (FREE book): https://greenteapress.com/wp/think-python-2e/\n",
    "* *Data Structures and Information Retrieval in Python* also by Allen B. Downey (FREE book): https://greenteapress.com/wp/data-structures-and-information-retrieval-in-python/\n",
    "* *Introduction to Python Programming* by Udayan Das et al., published by OpenStax: https://openstax.org/details/books/introduction-python-programming\n",
    "* *The Hitchhiker's Guide to Python* by Kenneth Reitz and Tanya Schlusser: https://docs.python-guide.org/\n",
    "\n",
    "There are also books online about more specialised topics, such as:\n",
    "\n",
    "* Package development: *Python Packages* by Tomas Beuzen and Tiffany Timbers -- https://py-pkgs.org/\n",
    "* Data science:\n",
    "    * *Python for Data Analysis, 3E* by Wes McKinney -- https://wesmckinney.com/book/\n",
    "    * *Python Data Science Handbook* by Jake VanderPlas -- https://jakevdp.github.io/PythonDataScienceHandbook/\n",
    "\n",
    "Another book that covers software development for research more generally, including more emphasis on the tools used is:\n",
    "\n",
    "* *Research Software Engineering with Python* by Damien Irving, et al.: https://third-bit.com/py-rse/index.html\n",
    "\n",
    "Through the databases at the McGill Library, we also have access to lots of books **for free**. Check out the library's online catalogue to see more.\n",
    "\n",
    "### Tutorials\n",
    "\n",
    "Tutorials are also great! And very much abundant! From more formal ones on sites like [freeCodeCamp](https://www.freecodecamp.org/) and [W3Schools](https://www.w3schools.com/python/default.asp) to less formal ones on [DEV](https://dev.to/), you can get lots of insight from these. There are also lots posted on Medium that you can check out. In addition to text-based tutorials, there are also videos on YouTube. And don't forget the official tutorials in the documentation! Tutorials are a very valuable resource that can help you see how to put pieces of code together in real-world examples.\n",
    "\n",
    "### Stack Overflow (and Pitfalls)\n",
    "\n",
    "If you have a Python question, chances are that someone, somewhere has asked it on [Stack Overflow](https://stackoverflow.com/). Stack Overflow is a **great** resource for finding answers to real questions about programming. **But** make sure that you're using it properly. Try the other resources **before** going to Stack Overflow. The answer may turn out to be on the documentation page for the function you're looking for. If there's a link to the docs in a Stack Overflow answer, **use it**. Check out in more detail. Make sure that you understand the code that you're about to add to your project and **don't just copy-paste** it. Coding is a thinking game. Make sure that you have thought about all the code that you're putting in and that you understand why it's there. And use your judgement and intuition when borrowing that code. If it looks sketchy, it could very well be sketchy and there may be a better way.\n",
    "\n",
    "In other words: Documentation **first**, documentation **last**, documentation **always**.\n",
    "\n",
    "### ChatGPT (and Pitfalls)\n",
    "\n",
    "Everything I said above about Stack Overflow. And more. Answers on Stack Overflow are written by humans who have written the code, tested it, and run the results. **Be careful** when using ChatGPT for code (if you're allowed to at all). Make extra sure that it makes sense, and test it. Don't just trust it because AI wrote it for you. After all, then you might wind up putting [glue on your pizza](https://www.theverge.com/2024/5/23/24162896/google-ai-overview-hallucinations-glue-in-pizza).\n",
    "\n",
    "You need to make extra sure that it actually makes sense and runs properly, because you don't have that same guarantee that a human has used this exact code in their own experience. Use your coding judgement and intuition.\n",
    "\n",
    "### Concluding Help Remarks...\n",
    "\n",
    "Again, ALWAYS remember to **read the documentation**. Often, if you're stuck, the answer is **right there**. If it's not, then it's probably on Stack Overflow. It's often a good idea to check the documentation **first** to see if there's an official explanation or an official example. And don't just copy a Stack Overflow answer or sample code. Think about what the code is doing. Does it make sense? Is there a better way? Try to look line by line to understand what is going on (play around in the IPython interpreter or in a Jupyter notebook!).\n",
    "\n",
    "## Other Cool Programming Topics\n",
    "\n",
    "Aside from the packages that I discussed above, there are other cool topics that you should definitely take a look at! These will help you write code that runs better, is easier to update and is easier to share.\n",
    "\n",
    "### Writing Packages\n",
    "\n",
    "We've seen how to install and use packages. But, you can also **write your own packages**. There are many great resources online about writing packages. The one that I most recommend is [this free online book](https://py-pkgs.org/): *Python Packages* by Tomas Beuszen and Tiffany Timbers. It's an easy read and helps you learn not only how to organise your code, but how to publish it, too. The authors also walk through how to render your own nice-looking documentation and host that online.\n",
    "\n",
    "### Object-Oriented and Functional Programming\n",
    "\n",
    "In this workshop, we scratched the surface of **object-oriented programming** by defining data classes and enumerations. Regular Python classes are capable of much more, so make sure to check out more about classes. Python also offers **functional programming** tools, allowing you to do more with functions.\n",
    "\n",
    "### Developing Graphical User Interfaces\n",
    "\n",
    "Jupyter notebooks and command line scripts are powerful, but they aren't accessible for people who don't know how to code. Solution: build a graphical user interface! Using PyQt, the process is quite straightforward. Check out [this online tutorial series](https://www.pythonguis.com/) by Martin Fitzpatrick to learn about developing GUIs in Python. It has been a great help to me in my own research.\n",
    "\n",
    "### Hosting Projects on GitHub\n",
    "\n",
    "What fun is a project if other people can't use it? By hosting your project on GitHub, you let others easily contribute to your project and build on it. Learning Git and GitHub are essential! And so are a few other skills along the way, like writing documents in Markdown. MiCM often has Git and GitHub workshops, so check out their workshop schedule!\n",
    "\n",
    "## Conclusion\n",
    "We've reached the end of this workshop. You now have most of the skills you need to:\n",
    "\n",
    "1. develop the software tools you'll need in your research, and\n",
    "2. learn how to use additional packages not covered.\n",
    "\n",
    "If you have any questions, please reach out!\n",
    "\n",
    "```python\n",
    "print(\"Goodbye!)\n",
    "```"
   ]
  },
  {
   "cell_type": "code",
   "execution_count": null,
   "id": "83996f5d-750b-457e-bc71-54082969d18a",
   "metadata": {},
   "outputs": [],
   "source": []
  }
 ],
 "metadata": {
  "kernelspec": {
   "display_name": "Python 3 (ipykernel)",
   "language": "python",
   "name": "python3"
  },
  "language_info": {
   "codemirror_mode": {
    "name": "ipython",
    "version": 3
   },
   "file_extension": ".py",
   "mimetype": "text/x-python",
   "name": "python",
   "nbconvert_exporter": "python",
   "pygments_lexer": "ipython3",
   "version": "3.10.13"
  }
 },
 "nbformat": 4,
 "nbformat_minor": 5
}
